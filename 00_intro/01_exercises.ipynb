{
  "nbformat": 4,
  "nbformat_minor": 0,
  "metadata": {
    "kernelspec": {
      "display_name": "Python 3",
      "language": "python",
      "name": "python3"
    },
    "language_info": {
      "codemirror_mode": {
        "name": "ipython",
        "version": 3
      },
      "file_extension": ".py",
      "mimetype": "text/x-python",
      "name": "python",
      "nbconvert_exporter": "python",
      "pygments_lexer": "ipython3",
      "version": "3.8.6"
    },
    "toc": {
      "base_numbering": 1,
      "nav_menu": {},
      "number_sections": false,
      "sideBar": true,
      "skip_h1_title": true,
      "title_cell": "Table of Contents",
      "title_sidebar": "Contents",
      "toc_cell": false,
      "toc_position": {},
      "toc_section_display": false,
      "toc_window_display": false
    },
    "colab": {
      "name": "01_exercises.ipynb",
      "provenance": [],
      "include_colab_link": true
    }
  },
  "cells": [
    {
      "cell_type": "markdown",
      "metadata": {
        "id": "view-in-github",
        "colab_type": "text"
      },
      "source": [
        "<a href=\"https://colab.research.google.com/github/jads-nl/intro-to-python/blob/develop/00_intro/01_exercises.ipynb\" target=\"_parent\"><img src=\"https://colab.research.google.com/assets/colab-badge.svg\" alt=\"Open In Colab\"/></a>"
      ]
    },
    {
      "cell_type": "markdown",
      "metadata": {
        "id": "rqj_UPjJWfTs"
      },
      "source": [
        "# Chapter 0: Introduction (Coding Exercises)"
      ]
    },
    {
      "cell_type": "markdown",
      "metadata": {
        "id": "gEGgrYEbWfTu"
      },
      "source": [
        "The exercises below assume that you have read [Chapter 0 <img height=\"12\" style=\"display: inline-block\" src=\"https://github.com/jads-nl/intro-to-python/blob/develop/static/link/to_nb.png?raw=1\">](https://nbviewer.jupyter.org/github/webartifex/intro-to-python/blob/develop/00_intro/00_content.ipynb)."
      ]
    },
    {
      "cell_type": "markdown",
      "metadata": {
        "id": "Aegx-ja6WfTv"
      },
      "source": [
        "## Mastering Markdown"
      ]
    },
    {
      "cell_type": "markdown",
      "metadata": {
        "id": "MKeCd5-gWfTw"
      },
      "source": [
        "Briefly review GitHub's guide on [Mastering Markdown](https://guides.github.com/features/mastering-markdown/) and create nicely formatted \"text\" cells below!"
      ]
    },
    {
      "cell_type": "markdown",
      "metadata": {
        "id": "p1E2Y3-FWfTx"
      },
      "source": [
        "**Q1**: Check the latest [Bundesliga standings](https://www.bundesliga.com/en/bundesliga/table) and provide a table of the top three teams with the following four columns: rank, team name, games played, and points scored. Render the rank in **bold**, make the team name a clickable link (to the team's website), and put both the games played and points scored in *italics*. The header row should be visually different from the three rows with the teams' information."
      ]
    },
    {
      "cell_type": "markdown",
      "metadata": {
        "id": "sD8YWBEyWfTy"
      },
      "source": [
        " < your answer >"
      ]
    },
    {
      "cell_type": "markdown",
      "metadata": {
        "id": "5DJDLF59WfTz"
      },
      "source": [
        "**Q2**: The quote \"Education is what remains after one has forgotten what one has learned in school\" is attributed to Albert Einstein. Display the author and his quote appropriately!"
      ]
    },
    {
      "cell_type": "markdown",
      "metadata": {
        "id": "HNV7NFTSWfT0"
      },
      "source": [
        " < your answer >"
      ]
    },
    {
      "cell_type": "markdown",
      "metadata": {
        "id": "QyKm2AWbWfT1"
      },
      "source": [
        "**Q3**: Integrate the image of the delicious dessert milk rice at this [URL](https://i.ytimg.com/vi/-BoSRlzy9c4/maxresdefault.jpg) into this notebook."
      ]
    },
    {
      "cell_type": "markdown",
      "metadata": {
        "id": "bibEtBFFWfT1"
      },
      "source": [
        " < your answer >"
      ]
    }
  ]
}