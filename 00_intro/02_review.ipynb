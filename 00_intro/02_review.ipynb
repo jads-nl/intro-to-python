{
  "nbformat": 4,
  "nbformat_minor": 0,
  "metadata": {
    "kernelspec": {
      "display_name": "Python 3",
      "language": "python",
      "name": "python3"
    },
    "language_info": {
      "codemirror_mode": {
        "name": "ipython",
        "version": 3
      },
      "file_extension": ".py",
      "mimetype": "text/x-python",
      "name": "python",
      "nbconvert_exporter": "python",
      "pygments_lexer": "ipython3",
      "version": "3.8.6"
    },
    "toc": {
      "base_numbering": 1,
      "nav_menu": {},
      "number_sections": false,
      "sideBar": true,
      "skip_h1_title": true,
      "title_cell": "Table of Contents",
      "title_sidebar": "Contents",
      "toc_cell": false,
      "toc_position": {},
      "toc_section_display": false,
      "toc_window_display": false
    },
    "colab": {
      "name": "02_review.ipynb",
      "provenance": [],
      "include_colab_link": true
    }
  },
  "cells": [
    {
      "cell_type": "markdown",
      "metadata": {
        "id": "view-in-github",
        "colab_type": "text"
      },
      "source": [
        "<a href=\"https://colab.research.google.com/github/jads-nl/intro-to-python/blob/develop/00_intro/02_review.ipynb\" target=\"_parent\"><img src=\"https://colab.research.google.com/assets/colab-badge.svg\" alt=\"Open In Colab\"/></a>"
      ]
    },
    {
      "cell_type": "markdown",
      "metadata": {
        "id": "HPVxDRfuY4Ne"
      },
      "source": [
        "# Chapter 0: Introduction (Review Questions)"
      ]
    },
    {
      "cell_type": "markdown",
      "metadata": {
        "id": "0N7VRnoPY4Ni"
      },
      "source": [
        "The questions below assume that you have read [Chapter 0 <img height=\"12\" style=\"display: inline-block\" src=\"https://github.com/jads-nl/intro-to-python/blob/develop/static/link/to_nb.png?raw=1\">](https://nbviewer.jupyter.org/github/webartifex/intro-to-python/blob/develop/00_intro/00_content.ipynb).\n",
        "\n",
        "Be concise in your answers! Most questions can be answered in *one* sentence."
      ]
    },
    {
      "cell_type": "markdown",
      "metadata": {
        "id": "7r97o6bdY4Nj"
      },
      "source": [
        "## Essay Questions "
      ]
    },
    {
      "cell_type": "markdown",
      "metadata": {
        "id": "0gRUtfIGY4Nk"
      },
      "source": [
        "**Q1**: Describe the difference between the terms **programming** and **computer science**!"
      ]
    },
    {
      "cell_type": "markdown",
      "metadata": {
        "id": "_lCjnpjDY4Nk"
      },
      "source": [
        " < your answer >"
      ]
    },
    {
      "cell_type": "markdown",
      "metadata": {
        "id": "3Q3T_6EWY4Nl"
      },
      "source": [
        "**Q2**: Explain what is a **pull request** and elaborate on how this concept fits a *distributed* organization of work!"
      ]
    },
    {
      "cell_type": "markdown",
      "metadata": {
        "id": "Fxf49z4CY4Nm"
      },
      "source": [
        " < your answer >"
      ]
    },
    {
      "cell_type": "markdown",
      "metadata": {
        "id": "9VrAaOjmY4Nm"
      },
      "source": [
        "**Q3**: In what sense are **open-source** communities democracies? How are they near-perfect [meritocracies <img height=\"12\" style=\"display: inline-block\" src=\"https://github.com/jads-nl/intro-to-python/blob/develop/static/link/to_wiki.png?raw=1\">](https://en.wikipedia.org/wiki/Meritocracy)? How is open-source software development similar to academia?"
      ]
    },
    {
      "cell_type": "markdown",
      "metadata": {
        "id": "NL3Sz-diY4Nn"
      },
      "source": [
        " < your answer >"
      ]
    },
    {
      "cell_type": "markdown",
      "metadata": {
        "id": "QrYlpvM1Y4Nn"
      },
      "source": [
        "**Q4**: What is a *significant* advantage of a \"slow\" programming language like Python over a faster one like C?"
      ]
    },
    {
      "cell_type": "markdown",
      "metadata": {
        "id": "k8U37ngaY4No"
      },
      "source": [
        " < your answer >"
      ]
    },
    {
      "cell_type": "markdown",
      "metadata": {
        "id": "fevHCZQ9Y4No"
      },
      "source": [
        "## True / False Questions"
      ]
    },
    {
      "cell_type": "markdown",
      "metadata": {
        "id": "z944PETwY4Np"
      },
      "source": [
        "Motivate your answer with *one short* sentence!"
      ]
    },
    {
      "cell_type": "markdown",
      "metadata": {
        "id": "mT2AmzZvY4Np"
      },
      "source": [
        "**Q5**: Python has been the fastest-growing *major* programming language in recent years."
      ]
    },
    {
      "cell_type": "markdown",
      "metadata": {
        "id": "lwCbujp1Y4Nq"
      },
      "source": [
        " < your answer >"
      ]
    },
    {
      "cell_type": "markdown",
      "metadata": {
        "id": "zS0fRpcVY4Nq"
      },
      "source": [
        "**Q6**: Python is named after a snake to emphasize its agility and fast development speed right in its name."
      ]
    },
    {
      "cell_type": "markdown",
      "metadata": {
        "id": "f2oabR4xY4Nr"
      },
      "source": [
        " < your answer >"
      ]
    },
    {
      "cell_type": "markdown",
      "metadata": {
        "id": "Oyw53tHUY4Nr"
      },
      "source": [
        "**Q7**: Python was initially designed for highly intensive numerical computing, in particular for use cases from physics and astronomy."
      ]
    },
    {
      "cell_type": "markdown",
      "metadata": {
        "id": "dWDzI9FFY4Ns"
      },
      "source": [
        " < your answer >"
      ]
    },
    {
      "cell_type": "markdown",
      "metadata": {
        "id": "9QUosbWwY4Ns"
      },
      "source": [
        "**Q8**: JavaScript is a subset of the Java language."
      ]
    },
    {
      "cell_type": "markdown",
      "metadata": {
        "id": "_be1wt1HY4Ns"
      },
      "source": [
        " < your answer >"
      ]
    },
    {
      "cell_type": "markdown",
      "metadata": {
        "id": "iTi92GKIY4Nt"
      },
      "source": [
        "**Q9**: Python is **free software**. That means it does not cost anything."
      ]
    },
    {
      "cell_type": "markdown",
      "metadata": {
        "id": "iFWG9-oiY4Nt"
      },
      "source": [
        " < your answer >"
      ]
    },
    {
      "cell_type": "markdown",
      "metadata": {
        "id": "nAfHOTdPY4Nu"
      },
      "source": [
        "**Q10**: The primary purpose of PEPs is to regulate how code should be documented and styled."
      ]
    },
    {
      "cell_type": "markdown",
      "metadata": {
        "id": "jE7L_sL5Y4Nu"
      },
      "source": [
        " < your answer >"
      ]
    }
  ]
}