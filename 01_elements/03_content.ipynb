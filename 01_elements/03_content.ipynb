{
  "nbformat": 4,
  "nbformat_minor": 0,
  "metadata": {
    "kernelspec": {
      "display_name": "Python 3",
      "language": "python",
      "name": "python3"
    },
    "language_info": {
      "codemirror_mode": {
        "name": "ipython",
        "version": 3
      },
      "file_extension": ".py",
      "mimetype": "text/x-python",
      "name": "python",
      "nbconvert_exporter": "python",
      "pygments_lexer": "ipython3",
      "version": "3.8.6"
    },
    "livereveal": {
      "auto_select": "code",
      "auto_select_fragment": true,
      "scroll": true,
      "theme": "serif"
    },
    "toc": {
      "base_numbering": 1,
      "nav_menu": {},
      "number_sections": false,
      "sideBar": true,
      "skip_h1_title": true,
      "title_cell": "Table of Contents",
      "title_sidebar": "Contents",
      "toc_cell": false,
      "toc_position": {
        "height": "calc(100% - 180px)",
        "left": "10px",
        "top": "150px",
        "width": "303.333px"
      },
      "toc_section_display": false,
      "toc_window_display": false
    },
    "colab": {
      "name": "03_content.ipynb",
      "provenance": [],
      "include_colab_link": true
    }
  },
  "cells": [
    {
      "cell_type": "markdown",
      "metadata": {
        "id": "view-in-github",
        "colab_type": "text"
      },
      "source": [
        "<a href=\"https://colab.research.google.com/github/jads-nl/intro-to-python/blob/develop/01_elements/03_content.ipynb\" target=\"_parent\"><img src=\"https://colab.research.google.com/assets/colab-badge.svg\" alt=\"Open In Colab\"/></a>"
      ]
    },
    {
      "cell_type": "markdown",
      "metadata": {
        "id": "PPSIfdeIZ95v"
      },
      "source": [
        "# Chapter 1: Elements of a Program (continued)"
      ]
    },
    {
      "cell_type": "markdown",
      "metadata": {
        "id": "2OigHcMyZ95w"
      },
      "source": [
        "In this second part of Chapter 1, we look a bit closer into how the memory works and introduce a couple of \"theoretical\" terms."
      ]
    },
    {
      "cell_type": "markdown",
      "metadata": {
        "id": "SJkbXSYcZ95x"
      },
      "source": [
        "## Variables vs. Names vs. Identifiers vs. References"
      ]
    },
    {
      "cell_type": "markdown",
      "metadata": {
        "id": "3xdc_2kSZ95x"
      },
      "source": [
        "**Variables** are created with the **[assignment statement <img height=\"12\" style=\"display: inline-block\" src=\"https://github.com/jads-nl/intro-to-python/blob/develop/static/link/to_py.png?raw=1\">](https://docs.python.org/3/reference/simple_stmts.html#assignment-statements)** `=`, which is *not* an operator because of its *side effect* of making a **[name <img height=\"12\" style=\"display: inline-block\" src=\"https://github.com/jads-nl/intro-to-python/blob/develop/static/link/to_py.png?raw=1\">](https://docs.python.org/3/reference/lexical_analysis.html#identifiers)** reference an object in memory.\n",
        "\n",
        "We read the terms **variable**, **name**, and **identifier** used interchangebly in many Python-related texts. In this book, we adopt the following convention: First, we treat *name* and *identifier* as perfect synonyms but only use the term *name* in the text for clarity. Second, whereas *name* only refers to a string of letters, numbers, and some other symbols, a *variable* means the combination of a *name* and a *reference* to an object in memory."
      ]
    },
    {
      "cell_type": "code",
      "metadata": {
        "id": "m6Jqk7r5Z95y"
      },
      "source": [
        "variable = 20.0"
      ],
      "execution_count": null,
      "outputs": []
    },
    {
      "cell_type": "markdown",
      "metadata": {
        "id": "FUBG8IXfZ952"
      },
      "source": [
        "When used as a *literal*, a variable evaluates to the value of the object it references. Colloquially, we could say that `variable` evaluates to `20.0`, but this would not be an accurate description of what is going on in memory. We see some more colloquialisms in this section but should always relate this to what Python actually does in memory."
      ]
    },
    {
      "cell_type": "code",
      "metadata": {
        "id": "gumAXMTKZ953",
        "outputId": "d3466487-2e0a-4cdd-e854-23bc9e423f72"
      },
      "source": [
        "variable"
      ],
      "execution_count": null,
      "outputs": [
        {
          "output_type": "execute_result",
          "data": {
            "text/plain": [
              "20.0"
            ]
          },
          "metadata": {
            "tags": []
          },
          "execution_count": 2
        }
      ]
    },
    {
      "cell_type": "markdown",
      "metadata": {
        "id": "8lBIxcRyZ956"
      },
      "source": [
        "A variable may be **re-assigned** as often as we wish. Thereby, we could also assign an object of a *different* type. Because this is allowed, Python is said to be a **dynamically typed** language. On the contrary, a **statically typed** language like C also allows re-assignment but only with objects of the *same* type. This subtle distinction is one reason why Python is slower at execution than C: As it runs a program, it needs to figure out an object's type each time it is referenced."
      ]
    },
    {
      "cell_type": "code",
      "metadata": {
        "id": "vZUvKq_vZ957"
      },
      "source": [
        "variable = 20"
      ],
      "execution_count": null,
      "outputs": []
    },
    {
      "cell_type": "code",
      "metadata": {
        "id": "NyAFPFSNZ95-",
        "outputId": "aca28dcf-1ed8-4239-97ec-c13ee0c4f44e"
      },
      "source": [
        "variable"
      ],
      "execution_count": null,
      "outputs": [
        {
          "output_type": "execute_result",
          "data": {
            "text/plain": [
              "20"
            ]
          },
          "metadata": {
            "tags": []
          },
          "execution_count": 4
        }
      ]
    },
    {
      "cell_type": "markdown",
      "metadata": {
        "id": "s7sg7bNPZ96A"
      },
      "source": [
        "If we want to re-assign a variable while referencing its \"old\" (i.e., current) object, we may also **update** it using a so-called **[augmented assignment statement <img height=\"12\" style=\"display: inline-block\" src=\"https://github.com/jads-nl/intro-to-python/blob/develop/static/link/to_py.png?raw=1\">](https://docs.python.org/3/reference/simple_stmts.html#augmented-assignment-statements)** (i.e., *not* operator), as introduced with [PEP 203 <img height=\"12\" style=\"display: inline-block\" src=\"https://github.com/jads-nl/intro-to-python/blob/develop/static/link/to_py.png?raw=1\">](https://www.python.org/dev/peps/pep-0203/): The currently mapped object is implicitly inserted as the first operand on the right-hand side."
      ]
    },
    {
      "cell_type": "code",
      "metadata": {
        "id": "y4ZJteqrZ96B"
      },
      "source": [
        "variable *= 4  # same as variable = variable * 4"
      ],
      "execution_count": null,
      "outputs": []
    },
    {
      "cell_type": "code",
      "metadata": {
        "id": "_OVMc5xcZ96E",
        "outputId": "f1f6f2ca-2c70-47ad-f3fb-a23e2dde5c28"
      },
      "source": [
        "variable"
      ],
      "execution_count": null,
      "outputs": [
        {
          "output_type": "execute_result",
          "data": {
            "text/plain": [
              "80"
            ]
          },
          "metadata": {
            "tags": []
          },
          "execution_count": 6
        }
      ]
    },
    {
      "cell_type": "code",
      "metadata": {
        "id": "QeJ_cAz7Z96H"
      },
      "source": [
        "variable //= 2  # same as variable = variable // 2; \"//\" to retain the integer type"
      ],
      "execution_count": null,
      "outputs": []
    },
    {
      "cell_type": "code",
      "metadata": {
        "id": "2D_HfosrZ96J",
        "outputId": "172da2cb-c1a1-462b-cae4-48fce1a2020f"
      },
      "source": [
        "variable"
      ],
      "execution_count": null,
      "outputs": [
        {
          "output_type": "execute_result",
          "data": {
            "text/plain": [
              "40"
            ]
          },
          "metadata": {
            "tags": []
          },
          "execution_count": 8
        }
      ]
    },
    {
      "cell_type": "code",
      "metadata": {
        "id": "bQjTbNxBZ96M"
      },
      "source": [
        "variable += 2  # same as variable = variable + 2"
      ],
      "execution_count": null,
      "outputs": []
    },
    {
      "cell_type": "code",
      "metadata": {
        "id": "sD-Do_KBZ96P",
        "outputId": "5a6ccd07-cc7f-4e5e-f7d0-99fa4466c8c4"
      },
      "source": [
        "variable"
      ],
      "execution_count": null,
      "outputs": [
        {
          "output_type": "execute_result",
          "data": {
            "text/plain": [
              "42"
            ]
          },
          "metadata": {
            "tags": []
          },
          "execution_count": 10
        }
      ]
    },
    {
      "cell_type": "markdown",
      "metadata": {
        "id": "YxXVF7qRZ96R"
      },
      "source": [
        "Variables are **[dereferenced <img height=\"12\" style=\"display: inline-block\" src=\"https://github.com/jads-nl/intro-to-python/blob/develop/static/link/to_py.png?raw=1\">](https://docs.python.org/3/reference/simple_stmts.html#the-del-statement)** (i.e., \"deleted\") with the `del` statement. This does *not* delete the object a variable references but merely removes the variable's name from the \"global list of all names.\""
      ]
    },
    {
      "cell_type": "code",
      "metadata": {
        "id": "8kBEi9G6Z96S",
        "outputId": "df52e1f8-d402-4464-d620-f6c37a6510c2"
      },
      "source": [
        "variable"
      ],
      "execution_count": null,
      "outputs": [
        {
          "output_type": "execute_result",
          "data": {
            "text/plain": [
              "42"
            ]
          },
          "metadata": {
            "tags": []
          },
          "execution_count": 11
        }
      ]
    },
    {
      "cell_type": "code",
      "metadata": {
        "id": "Yao_0vkrZ96V"
      },
      "source": [
        "del variable"
      ],
      "execution_count": null,
      "outputs": []
    },
    {
      "cell_type": "markdown",
      "metadata": {
        "id": "x04qkzrjZ96X"
      },
      "source": [
        "If we refer to an unknown name, a *runtime* error occurs, namely a `NameError`. The `Name` in `NameError` gives a hint why we choose the term *name* over *identifier* above: Python uses it more often in its error messages."
      ]
    },
    {
      "cell_type": "code",
      "metadata": {
        "id": "GqTDRZ5GZ96Y",
        "outputId": "5b288abe-b7f9-4ad3-e58f-49ccf459dec3"
      },
      "source": [
        "variable"
      ],
      "execution_count": null,
      "outputs": [
        {
          "output_type": "error",
          "ename": "NameError",
          "evalue": "name 'variable' is not defined",
          "traceback": [
            "\u001b[0;31m---------------------------------------------------------------------------\u001b[0m",
            "\u001b[0;31mNameError\u001b[0m                                 Traceback (most recent call last)",
            "\u001b[0;32m<ipython-input-13-1748287bc46a>\u001b[0m in \u001b[0;36m<module>\u001b[0;34m\u001b[0m\n\u001b[0;32m----> 1\u001b[0;31m \u001b[0mvariable\u001b[0m\u001b[0;34m\u001b[0m\u001b[0;34m\u001b[0m\u001b[0m\n\u001b[0m",
            "\u001b[0;31mNameError\u001b[0m: name 'variable' is not defined"
          ]
        }
      ]
    },
    {
      "cell_type": "markdown",
      "metadata": {
        "id": "uSa6Oh05Z96a"
      },
      "source": [
        "Some variables magically exist when a Python process is started or are added by Jupyter. We may safely ignore the former until [Chapter 11 <img height=\"12\" style=\"display: inline-block\" src=\"https://github.com/jads-nl/intro-to-python/blob/develop/static/link/to_nb.png?raw=1\">](https://nbviewer.jupyter.org/github/webartifex/intro-to-python/blob/develop/11_classes/00_content.ipynb) and the latter for good."
      ]
    },
    {
      "cell_type": "code",
      "metadata": {
        "id": "KjW5odoMZ96b",
        "outputId": "fff59cfe-df1a-4368-ddd4-5e43c461facc"
      },
      "source": [
        "__name__"
      ],
      "execution_count": null,
      "outputs": [
        {
          "output_type": "execute_result",
          "data": {
            "text/plain": [
              "'__main__'"
            ]
          },
          "metadata": {
            "tags": []
          },
          "execution_count": 14
        }
      ]
    },
    {
      "cell_type": "markdown",
      "metadata": {
        "id": "qExEZBNtZ96e"
      },
      "source": [
        "To see all defined names, the built-in function [dir() <img height=\"12\" style=\"display: inline-block\" src=\"https://github.com/jads-nl/intro-to-python/blob/develop/static/link/to_py.png?raw=1\">](https://docs.python.org/3/library/functions.html#dir) is helpful."
      ]
    },
    {
      "cell_type": "code",
      "metadata": {
        "id": "DAXqb0vZZ96e",
        "outputId": "dbf3d13c-ebf6-4eed-f97e-9785e1bca7d8"
      },
      "source": [
        "dir()"
      ],
      "execution_count": null,
      "outputs": [
        {
          "output_type": "execute_result",
          "data": {
            "text/plain": [
              "['In',\n",
              " 'Out',\n",
              " '_',\n",
              " '_10',\n",
              " '_11',\n",
              " '_14',\n",
              " '_2',\n",
              " '_4',\n",
              " '_6',\n",
              " '_8',\n",
              " '__',\n",
              " '___',\n",
              " '__builtin__',\n",
              " '__builtins__',\n",
              " '__doc__',\n",
              " '__loader__',\n",
              " '__name__',\n",
              " '__package__',\n",
              " '__spec__',\n",
              " '_dh',\n",
              " '_i',\n",
              " '_i1',\n",
              " '_i10',\n",
              " '_i11',\n",
              " '_i12',\n",
              " '_i13',\n",
              " '_i14',\n",
              " '_i15',\n",
              " '_i2',\n",
              " '_i3',\n",
              " '_i4',\n",
              " '_i5',\n",
              " '_i6',\n",
              " '_i7',\n",
              " '_i8',\n",
              " '_i9',\n",
              " '_ih',\n",
              " '_ii',\n",
              " '_iii',\n",
              " '_oh',\n",
              " 'exit',\n",
              " 'get_ipython',\n",
              " 'quit',\n",
              " 'register_readline_completion',\n",
              " 'sys']"
            ]
          },
          "metadata": {
            "tags": []
          },
          "execution_count": 15
        }
      ]
    },
    {
      "cell_type": "markdown",
      "metadata": {
        "id": "gan4jgHhZ96h"
      },
      "source": [
        "### Naming Conventions"
      ]
    },
    {
      "cell_type": "markdown",
      "metadata": {
        "id": "_AQVDnKwZ96h"
      },
      "source": [
        "[Phil Karlton](https://skeptics.stackexchange.com/questions/19836/has-phil-karlton-ever-said-there-are-only-two-hard-things-in-computer-science) famously noted during his time at [Netscape <img height=\"12\" style=\"display: inline-block\" src=\"https://github.com/jads-nl/intro-to-python/blob/develop/static/link/to_wiki.png?raw=1\">](https://en.wikipedia.org/wiki/Netscape):\n",
        "\n",
        "> \"There are *two* hard problems in computer science: *naming things* and *cache invalidation* ... and *off-by-one* errors.\""
      ]
    },
    {
      "cell_type": "markdown",
      "metadata": {
        "id": "yOxB2CTzZ96i"
      },
      "source": [
        "Variable names may contain upper and lower case letters, numbers, and underscores (i.e., `_`) and be as long as we want them to be. However, they must not begin with a number. Also, they must not be any of Python's built-in **[keywords <img height=\"12\" style=\"display: inline-block\" src=\"https://github.com/jads-nl/intro-to-python/blob/develop/static/link/to_py.png?raw=1\">](https://docs.python.org/3/reference/lexical_analysis.html#keywords)** like `for` or `if`.\n",
        "\n",
        "Variable names should be chosen such that they do not need any more documentation and are self-explanatory. A widespread convention is to use so-called **[snake\\_case <img height=\"12\" style=\"display: inline-block\" src=\"https://github.com/jads-nl/intro-to-python/blob/develop/static/link/to_wiki.png?raw=1\">](https://en.wikipedia.org/wiki/Snake_case)**: Keep everything lowercase and use underscores to separate words.\n",
        "\n",
        "See this [link <img height=\"12\" style=\"display: inline-block\" src=\"https://github.com/jads-nl/intro-to-python/blob/develop/static/link/to_wiki.png?raw=1\">](https://en.wikipedia.org/wiki/Naming_convention_%28programming%29#Python_and_Ruby) for a comparison of different naming conventions."
      ]
    },
    {
      "cell_type": "markdown",
      "metadata": {
        "id": "qVmSWWZyZ96i"
      },
      "source": [
        "#### Good examples"
      ]
    },
    {
      "cell_type": "code",
      "metadata": {
        "id": "sOtNPKwbZ96j"
      },
      "source": [
        "pi = 3.14"
      ],
      "execution_count": null,
      "outputs": []
    },
    {
      "cell_type": "code",
      "metadata": {
        "id": "HmUUIMBSZ96m"
      },
      "source": [
        "answer_to_everything = 42"
      ],
      "execution_count": null,
      "outputs": []
    },
    {
      "cell_type": "code",
      "metadata": {
        "id": "rrfWFS0uZ96p"
      },
      "source": [
        "my_name = \"Alexander\""
      ],
      "execution_count": null,
      "outputs": []
    },
    {
      "cell_type": "code",
      "metadata": {
        "id": "g062Ws8SZ96r"
      },
      "source": [
        "work_address = \"WHU, Burgplatz 2, Vallendar\""
      ],
      "execution_count": null,
      "outputs": []
    },
    {
      "cell_type": "markdown",
      "metadata": {
        "id": "dzUSA78JZ96t"
      },
      "source": [
        "#### Bad examples"
      ]
    },
    {
      "cell_type": "code",
      "metadata": {
        "id": "62dilXDCZ96t"
      },
      "source": [
        "PI = 3.14  # unless used as a \"global\" constant"
      ],
      "execution_count": null,
      "outputs": []
    },
    {
      "cell_type": "code",
      "metadata": {
        "id": "flWUd7URZ96w"
      },
      "source": [
        "answerToEverything = 42  # this is a style used in languages like Java"
      ],
      "execution_count": null,
      "outputs": []
    },
    {
      "cell_type": "code",
      "metadata": {
        "id": "gL0Lk2cZZ96y"
      },
      "source": [
        "name = \"Alexander\"  # name of what?"
      ],
      "execution_count": null,
      "outputs": []
    },
    {
      "cell_type": "code",
      "metadata": {
        "id": "PJJdznHBZ961",
        "outputId": "8f73e6d9-c69c-438d-97e5-404e54cf7f73"
      },
      "source": [
        "address@work = \"WHU, Burgplatz 2, Vallendar\""
      ],
      "execution_count": null,
      "outputs": [
        {
          "output_type": "error",
          "ename": "SyntaxError",
          "evalue": "cannot assign to operator (<ipython-input-23-ec51dae29567>, line 1)",
          "traceback": [
            "\u001b[0;36m  File \u001b[0;32m\"<ipython-input-23-ec51dae29567>\"\u001b[0;36m, line \u001b[0;32m1\u001b[0m\n\u001b[0;31m    address@work = \"WHU, Burgplatz 2, Vallendar\"\u001b[0m\n\u001b[0m    ^\u001b[0m\n\u001b[0;31mSyntaxError\u001b[0m\u001b[0;31m:\u001b[0m cannot assign to operator\n"
          ]
        }
      ]
    },
    {
      "cell_type": "markdown",
      "metadata": {
        "id": "8FX5IvOYZ964"
      },
      "source": [
        "If a variable name collides with a built-in name, we add a trailing underscore."
      ]
    },
    {
      "cell_type": "code",
      "metadata": {
        "id": "hetFXtp8Z964"
      },
      "source": [
        "type_ = \"student\""
      ],
      "execution_count": null,
      "outputs": []
    },
    {
      "cell_type": "markdown",
      "metadata": {
        "id": "rp34-N-0Z967"
      },
      "source": [
        "Variables with leading and trailing double underscores, referred to as **dunder** in Python jargon, are used for built-in functionalities and to implement object-oriented features as we see in [Chapter 11 <img height=\"12\" style=\"display: inline-block\" src=\"https://github.com/jads-nl/intro-to-python/blob/develop/static/link/to_nb.png?raw=1\">](https://nbviewer.jupyter.org/github/webartifex/intro-to-python/blob/develop/11_classes/00_content.ipynb). We must *not* use this style for variables!"
      ]
    },
    {
      "cell_type": "code",
      "metadata": {
        "id": "bPtXyzcQZ967",
        "outputId": "714e1666-6950-4d7c-b4a7-06c3cfb12d9c"
      },
      "source": [
        "__name__"
      ],
      "execution_count": null,
      "outputs": [
        {
          "output_type": "execute_result",
          "data": {
            "text/plain": [
              "'__main__'"
            ]
          },
          "metadata": {
            "tags": []
          },
          "execution_count": 25
        }
      ]
    },
    {
      "cell_type": "markdown",
      "metadata": {
        "id": "jkjrUOhPZ969"
      },
      "source": [
        "## Who am I? And how many?"
      ]
    },
    {
      "cell_type": "markdown",
      "metadata": {
        "id": "791puqx1Z969"
      },
      "source": [
        "It is *crucial* to understand that *several* variables may reference the *same* object in memory. Not having this in mind may lead to many hard to track down bugs.\n",
        "\n",
        "Let's make `b` reference whatever object `a` is referencing."
      ]
    },
    {
      "cell_type": "code",
      "metadata": {
        "id": "PHbowui_Z96-"
      },
      "source": [
        "a = 42"
      ],
      "execution_count": null,
      "outputs": []
    },
    {
      "cell_type": "code",
      "metadata": {
        "id": "0OOvApsvZ97A"
      },
      "source": [
        "b = a"
      ],
      "execution_count": null,
      "outputs": []
    },
    {
      "cell_type": "code",
      "metadata": {
        "id": "C1Xa02kTZ97C",
        "outputId": "09f71f8b-9887-4b9c-a05a-5a4df64d4fed"
      },
      "source": [
        "b"
      ],
      "execution_count": null,
      "outputs": [
        {
          "output_type": "execute_result",
          "data": {
            "text/plain": [
              "42"
            ]
          },
          "metadata": {
            "tags": []
          },
          "execution_count": 28
        }
      ]
    },
    {
      "cell_type": "markdown",
      "metadata": {
        "id": "U7cb-43tZ97E"
      },
      "source": [
        "For \"simple\" types like `int` or `float` this never causes troubles.\n",
        "\n",
        "Let's \"change the value\" of `a`. To be precise, let's create a *new* `87` object and make `a` reference it."
      ]
    },
    {
      "cell_type": "code",
      "metadata": {
        "id": "Y9O9w9QLZ97F"
      },
      "source": [
        "a = 87"
      ],
      "execution_count": null,
      "outputs": []
    },
    {
      "cell_type": "code",
      "metadata": {
        "id": "JNY04MNPZ97H",
        "outputId": "cd8e5668-21f1-4189-afcb-5c17527feb30"
      },
      "source": [
        "a"
      ],
      "execution_count": null,
      "outputs": [
        {
          "output_type": "execute_result",
          "data": {
            "text/plain": [
              "87"
            ]
          },
          "metadata": {
            "tags": []
          },
          "execution_count": 30
        }
      ]
    },
    {
      "cell_type": "markdown",
      "metadata": {
        "id": "TbfyWU8MZ97J"
      },
      "source": [
        "`b` \"is still the same\" as before. To be precise, `b` still references the *same object* as before."
      ]
    },
    {
      "cell_type": "code",
      "metadata": {
        "id": "F0KLVEqjZ97J",
        "outputId": "878e153c-0460-4e04-b30a-eca6a4856219"
      },
      "source": [
        "b"
      ],
      "execution_count": null,
      "outputs": [
        {
          "output_type": "execute_result",
          "data": {
            "text/plain": [
              "42"
            ]
          },
          "metadata": {
            "tags": []
          },
          "execution_count": 31
        }
      ]
    },
    {
      "cell_type": "markdown",
      "metadata": {
        "id": "48sZUrfiZ97L"
      },
      "source": [
        "However, if a variable references an object of a more \"complex\" type (e.g., `list`), predicting the outcome of a code snippet may be unintuitive for a beginner."
      ]
    },
    {
      "cell_type": "code",
      "metadata": {
        "id": "Omfv8eJgZ97M"
      },
      "source": [
        "x = [1, 2, 3]"
      ],
      "execution_count": null,
      "outputs": []
    },
    {
      "cell_type": "code",
      "metadata": {
        "id": "GUG8MN8VZ97N",
        "outputId": "ef562dc7-a410-4c83-ebed-4c1d92cac569"
      },
      "source": [
        "type(x)"
      ],
      "execution_count": null,
      "outputs": [
        {
          "output_type": "execute_result",
          "data": {
            "text/plain": [
              "list"
            ]
          },
          "metadata": {
            "tags": []
          },
          "execution_count": 33
        }
      ]
    },
    {
      "cell_type": "code",
      "metadata": {
        "id": "hekDqk_CZ97Q"
      },
      "source": [
        "y = x"
      ],
      "execution_count": null,
      "outputs": []
    },
    {
      "cell_type": "code",
      "metadata": {
        "id": "fuFjse5aZ97S",
        "outputId": "774420d5-b469-4e02-a7ed-54a75e0bb322"
      },
      "source": [
        "y"
      ],
      "execution_count": null,
      "outputs": [
        {
          "output_type": "execute_result",
          "data": {
            "text/plain": [
              "[1, 2, 3]"
            ]
          },
          "metadata": {
            "tags": []
          },
          "execution_count": 35
        }
      ]
    },
    {
      "cell_type": "markdown",
      "metadata": {
        "id": "jWYTZVuEZ97V"
      },
      "source": [
        "Let's change the first element of `x`.\n",
        "\n",
        "[Chapter 7 <img height=\"12\" style=\"display: inline-block\" src=\"https://github.com/jads-nl/intro-to-python/blob/develop/static/link/to_nb.png?raw=1\">](https://nbviewer.jupyter.org/github/webartifex/intro-to-python/blob/develop/07_sequences/00_content.ipynb#The-list-Type) discusses lists in more depth. For now, let's view a `list` object as some sort of **container** that holds an arbitrary number of references to other objects and treat the brackets `[]` attached to it as yet another operator, namely the **indexing operator**. So, `x[0]` instructs Python to first follow the reference from the global list of all names to the `x` object. Then, it follows the first reference it finds there to the `1` object we put in the list. The indexing operator must be an operator as we merely *read* the first element and do not change anything in memory permanently.\n",
        "\n",
        "Python **begins counting at 0**. This is not the case for many other languages, for example, [MATLAB <img height=\"12\" style=\"display: inline-block\" src=\"https://github.com/jads-nl/intro-to-python/blob/develop/static/link/to_wiki.png?raw=1\">](https://en.wikipedia.org/wiki/MATLAB), [R <img height=\"12\" style=\"display: inline-block\" src=\"https://github.com/jads-nl/intro-to-python/blob/develop/static/link/to_wiki.png?raw=1\">](https://en.wikipedia.org/wiki/R_%28programming_language%29), or [Stata <img height=\"12\" style=\"display: inline-block\" src=\"https://github.com/jads-nl/intro-to-python/blob/develop/static/link/to_wiki.png?raw=1\">](https://en.wikipedia.org/wiki/Stata). To understand why this makes sense, see this short [note](https://www.cs.utexas.edu/users/EWD/transcriptions/EWD08xx/EWD831.html) by one of the all-time greats in computer science, the late [Edsger Dijkstra <img height=\"12\" style=\"display: inline-block\" src=\"https://github.com/jads-nl/intro-to-python/blob/develop/static/link/to_wiki.png?raw=1\">](https://en.wikipedia.org/wiki/Edsger_W._Dijkstra)."
      ]
    },
    {
      "cell_type": "code",
      "metadata": {
        "id": "thAE_A7ZZ97W",
        "outputId": "fe5f6398-0f25-45cf-8025-e4570ea0472d"
      },
      "source": [
        "x[0]"
      ],
      "execution_count": null,
      "outputs": [
        {
          "output_type": "execute_result",
          "data": {
            "text/plain": [
              "1"
            ]
          },
          "metadata": {
            "tags": []
          },
          "execution_count": 36
        }
      ]
    },
    {
      "cell_type": "markdown",
      "metadata": {
        "id": "3QTKoGatZ97Y"
      },
      "source": [
        "To change the first entry in the list, we use the assignment statement `=` again. Here, this does *not* create a *new* variable, nor overwrite an existing one, but only changes the object referenced as the first element in `x`. As we only change parts of the `x` object, we say that we **mutate** its **state**. To use the bag analogy from above, we keep the same bag but \"flip\" some of the $0$s into $1$s and some of the $1$s into $0$s."
      ]
    },
    {
      "cell_type": "code",
      "metadata": {
        "id": "HkyCEHxeZ97Y"
      },
      "source": [
        "x[0] = 99"
      ],
      "execution_count": null,
      "outputs": []
    },
    {
      "cell_type": "code",
      "metadata": {
        "id": "B2QqhP9rZ97b",
        "outputId": "4838be36-20ee-4157-b0d6-ffc9269197b9"
      },
      "source": [
        "x"
      ],
      "execution_count": null,
      "outputs": [
        {
          "output_type": "execute_result",
          "data": {
            "text/plain": [
              "[99, 2, 3]"
            ]
          },
          "metadata": {
            "tags": []
          },
          "execution_count": 38
        }
      ]
    },
    {
      "cell_type": "markdown",
      "metadata": {
        "id": "afszYDBcZ97d"
      },
      "source": [
        "The changes made to the object `x` is referencing can also be seen through the `y` variable!"
      ]
    },
    {
      "cell_type": "code",
      "metadata": {
        "id": "jgLO2csfZ97f",
        "outputId": "b1278deb-08c1-40cf-a901-2dc7311cf532"
      },
      "source": [
        "y"
      ],
      "execution_count": null,
      "outputs": [
        {
          "output_type": "execute_result",
          "data": {
            "text/plain": [
              "[99, 2, 3]"
            ]
          },
          "metadata": {
            "tags": []
          },
          "execution_count": 39
        }
      ]
    },
    {
      "cell_type": "markdown",
      "metadata": {
        "id": "ZTgUvJMbZ97h"
      },
      "source": [
        "The difference in behavior illustrated in this sub-section has to do with the fact that `int` and `float` objects are **immutable** types while `list` objects are **mutable**.\n",
        "\n",
        "In the first case, an object cannot be changed \"in place\" once it is created in memory. When we assigned `87` to the already existing `a`, we did *not* change the $0$s and $1$s in the object `a` referenced before the assignment but created a new `int` object and made `a` reference it while the `b` variable is *not* affected.\n",
        "\n",
        "In the second case, `x[0] = 99` creates a *new* `int` object `99` and merely changes the first reference in the `x` list.\n",
        "\n",
        "In general, the assignment statement creates a new name and makes it reference whatever object is on the right-hand side *iff* the left-hand side is a *pure* name (i.e., it contains no operators like the indexing operator in the example). Otherwise, it *mutates* an already existing object. And, we must always expect that the latter may have more than one variable referencing it.\n",
        "\n",
        "Visualizing what is going on in memory with a tool like [PythonTutor <img height=\"12\" style=\"display: inline-block\" src=\"https://github.com/jads-nl/intro-to-python/blob/develop/static/link/to_py.png?raw=1\">](http://pythontutor.com/visualize.html#code=x%20%3D%20%5B1,%202,%203%5D%0Ay%20%3D%20x%0Ax%5B0%5D%20%3D%2099%0Aprint%28y%5B0%5D%29&cumulative=false&curInstr=0&heapPrimitives=nevernest&mode=display&origin=opt-frontend.js&py=3&rawInputLstJSON=%5B%5D&textReferences=false) may be helpful for a beginner."
      ]
    },
    {
      "cell_type": "markdown",
      "metadata": {
        "id": "8wwT_ItwZ97i"
      },
      "source": [
        "## How Python reads \"Commands\""
      ]
    },
    {
      "cell_type": "markdown",
      "metadata": {
        "id": "gLs1h0VEZ97i"
      },
      "source": [
        "As we saw in the previous `list` example, it is important to understand in what order Python executes the \"commands\" (= not an officially used term) we give it. In this last section of the chapter, we introduce a classification scheme and look at its implications."
      ]
    },
    {
      "cell_type": "markdown",
      "metadata": {
        "id": "_pSHtqTHZ97i"
      },
      "source": [
        "### Expressions"
      ]
    },
    {
      "cell_type": "markdown",
      "metadata": {
        "id": "0t5s0IuKZ97j"
      },
      "source": [
        "An **[expression <img height=\"12\" style=\"display: inline-block\" src=\"https://github.com/jads-nl/intro-to-python/blob/develop/static/link/to_py.png?raw=1\">](https://docs.python.org/3/reference/expressions.html)** is any syntactically correct *combination* of *variables* and *literals* with *operators* that **evaluates** (i.e., \"becomes\") to an object. That object may already exist *before* the expression is parsed or created as a result thereof. The point is that *after* the expression is parsed, Python returns a reference to this object that may be used for further processing.\n",
        "\n",
        "In simple words, anything that may be used on the *right-hand* side of an assignment statement without creating a `SyntaxError` is an expression.\n",
        "\n",
        "What we have said about *individual* operators before, namely that they have *no* permanent side effects in memory, actually belongs here, to begin with: The absence of any *permanent* side effects is the characteristic property of expressions, and all the code cells in the \"*(Arithmetic) Operators*\" section in the [first part <img height=\"12\" style=\"display: inline-block\" src=\"https://github.com/jads-nl/intro-to-python/blob/develop/static/link/to_nb.png?raw=1\">](https://nbviewer.jupyter.org/github/webartifex/intro-to-python/blob/develop/01_elements/00_content.ipynb#%28Arithmetic%29-Operators) of this chapter are examples of expressions.\n",
        "\n",
        "The simplest possible expressions contain only one variable or literal. The output below a code cell is Jupyter's way of returning the reference to the object to us!\n",
        "\n",
        "Whereas `a` evaluates to the *existing* `87` object, ..."
      ]
    },
    {
      "cell_type": "code",
      "metadata": {
        "id": "MLS_scPkZ97j",
        "outputId": "b559b6cd-05fb-4365-dcf1-56bcafd5e657"
      },
      "source": [
        "a"
      ],
      "execution_count": null,
      "outputs": [
        {
          "output_type": "execute_result",
          "data": {
            "text/plain": [
              "87"
            ]
          },
          "metadata": {
            "tags": []
          },
          "execution_count": 40
        }
      ]
    },
    {
      "cell_type": "markdown",
      "metadata": {
        "id": "UO8ccB7LZ97m"
      },
      "source": [
        "... parsing the literal `42` creates a *new* `int` object and returns a reference to it (Note: for optimization reasons, the CPython implementation may already have a `42` object in memory)."
      ]
    },
    {
      "cell_type": "code",
      "metadata": {
        "id": "doicD3vSZ97m",
        "outputId": "bc61aac0-5f5a-4f03-831f-926bcb790195"
      },
      "source": [
        "42"
      ],
      "execution_count": null,
      "outputs": [
        {
          "output_type": "execute_result",
          "data": {
            "text/plain": [
              "42"
            ]
          },
          "metadata": {
            "tags": []
          },
          "execution_count": 41
        }
      ]
    },
    {
      "cell_type": "markdown",
      "metadata": {
        "id": "9VKRi9XMZ97q"
      },
      "source": [
        "For sure, we need to include operators to achieve something useful. Here, Python takes the existing `a` object, creates a new `42` object, creates the resulting `45` object, and returns a reference to that."
      ]
    },
    {
      "cell_type": "code",
      "metadata": {
        "id": "3pkcpnmRZ97q",
        "outputId": "1fa968c6-f660-4ab2-c014-e4b22abda2b7"
      },
      "source": [
        "a - 42"
      ],
      "execution_count": null,
      "outputs": [
        {
          "output_type": "execute_result",
          "data": {
            "text/plain": [
              "45"
            ]
          },
          "metadata": {
            "tags": []
          },
          "execution_count": 42
        }
      ]
    },
    {
      "cell_type": "markdown",
      "metadata": {
        "id": "QVyyRV_JZ97t"
      },
      "source": [
        "The definition of an expression is **recursive**. So, the sub-expression `a - 42` is combined with the literal `9` by the operator `//` to form the full expression `(a - 42) // 9`."
      ]
    },
    {
      "cell_type": "code",
      "metadata": {
        "id": "J02_GQz9Z97t",
        "outputId": "20c996c3-b690-478e-fb63-d3c44c7182ef"
      },
      "source": [
        "(a - 42) // 9"
      ],
      "execution_count": null,
      "outputs": [
        {
          "output_type": "execute_result",
          "data": {
            "text/plain": [
              "5"
            ]
          },
          "metadata": {
            "tags": []
          },
          "execution_count": 43
        }
      ]
    },
    {
      "cell_type": "markdown",
      "metadata": {
        "id": "RWrhcWAiZ97w"
      },
      "source": [
        "Below, the variable `x` is combined with the literal `2` by the indexing operator `[]`. The resulting expression evaluates to the third element in the `x` list."
      ]
    },
    {
      "cell_type": "code",
      "metadata": {
        "id": "BuMBFsonZ97w",
        "outputId": "04f35090-db3c-4df9-a048-45f23a1290db"
      },
      "source": [
        "x[2]"
      ],
      "execution_count": null,
      "outputs": [
        {
          "output_type": "execute_result",
          "data": {
            "text/plain": [
              "3"
            ]
          },
          "metadata": {
            "tags": []
          },
          "execution_count": 44
        }
      ]
    },
    {
      "cell_type": "markdown",
      "metadata": {
        "id": "dVT5EgBgZ97z"
      },
      "source": [
        "When not used as a delimiter, parentheses also constitute an operator, namely the **call operator** `()`. We saw this syntax before when we called built-in functions and methods."
      ]
    },
    {
      "cell_type": "code",
      "metadata": {
        "id": "Xn86c8PNZ97z",
        "outputId": "68506921-6148-4416-84cc-235fb5827a82"
      },
      "source": [
        "sum(x)"
      ],
      "execution_count": null,
      "outputs": [
        {
          "output_type": "execute_result",
          "data": {
            "text/plain": [
              "104"
            ]
          },
          "metadata": {
            "tags": []
          },
          "execution_count": 45
        }
      ]
    },
    {
      "cell_type": "markdown",
      "metadata": {
        "id": "nI0rgwW5Z971"
      },
      "source": [
        "### Statements"
      ]
    },
    {
      "cell_type": "markdown",
      "metadata": {
        "id": "TDP98EVxZ972"
      },
      "source": [
        "A **[statement <img height=\"12\" style=\"display: inline-block\" src=\"https://github.com/jads-nl/intro-to-python/blob/develop/static/link/to_py.png?raw=1\">](https://docs.python.org/3/reference/simple_stmts.html)** is any *single* command Python understands.\n",
        "\n",
        "So, what we mean with statement is a [strict superset <img height=\"12\" style=\"display: inline-block\" src=\"https://github.com/jads-nl/intro-to-python/blob/develop/static/link/to_wiki.png?raw=1\">](https://en.wikipedia.org/wiki/Subset) of what we mean with expression: All expressions are statements, but some statements are *not* expressions. That implies that all code cells in the previous \"*Expressions*\" section are also examples of statements.\n",
        "\n",
        "Unfortunately, many texts on Python use the two terms as mutually exclusive concepts by saying that a statement (always) *changes* the *state of a program* with a permanent *side effect* in memory (e.g., by creating a variable) whereas an expression does not. That is not an accurate way of distinguishing the two in all cases!\n",
        "\n",
        "So, often, the term statement is used in the meaning of \"a statement that is *not* an expression.\" We can identify such statements easily in Jupyter as the correspoding code cells have *no* output below them.\n",
        "\n",
        "While many statements, for example `=` and `del`, indeed have *permanent* side effects, ..."
      ]
    },
    {
      "cell_type": "code",
      "metadata": {
        "id": "3sEWERWVZ972"
      },
      "source": [
        "a = 21 * 2"
      ],
      "execution_count": null,
      "outputs": []
    },
    {
      "cell_type": "code",
      "metadata": {
        "id": "LVvGJYXKZ975"
      },
      "source": [
        "del a"
      ],
      "execution_count": null,
      "outputs": []
    },
    {
      "cell_type": "markdown",
      "metadata": {
        "id": "vjAhhDgsZ979"
      },
      "source": [
        "... calling the built-in [print() <img height=\"12\" style=\"display: inline-block\" src=\"https://github.com/jads-nl/intro-to-python/blob/develop/static/link/to_py.png?raw=1\">](https://docs.python.org/3/library/functions.html#print) function does *neither* change the memory *nor* evaluate to an object (disregarding the `None` object explained in [Chapter 2 <img height=\"12\" style=\"display: inline-block\" src=\"https://github.com/jads-nl/intro-to-python/blob/develop/static/link/to_nb.png?raw=1\">](https://nbviewer.jupyter.org/github/webartifex/intro-to-python/blob/develop/02_functions/00_content.ipynb#Function-Definitions)). We could view changing the computer's screen as a side effect but this is outside of Python's memory!\n",
        "\n",
        "Also, the cell below has *no* output! It only looks like it does as Jupyter redirects whatever [print() <img height=\"12\" style=\"display: inline-block\" src=\"https://github.com/jads-nl/intro-to-python/blob/develop/static/link/to_py.png?raw=1\">](https://docs.python.org/3/library/functions.html#print) writes to the \"screen\" to below a cell. We see a difference to the expressions above in that there are no brackets `[...]` next to the output showing the execution count number."
      ]
    },
    {
      "cell_type": "code",
      "metadata": {
        "id": "4RVuGJ-pZ979",
        "outputId": "8a6f6150-d876-4d92-caa7-29f5599ca604"
      },
      "source": [
        "print(\"Don't I change the state of the computer's display?\")"
      ],
      "execution_count": null,
      "outputs": [
        {
          "output_type": "stream",
          "text": [
            "Don't I change the state of the computer's display?\n"
          ],
          "name": "stdout"
        }
      ]
    },
    {
      "cell_type": "markdown",
      "metadata": {
        "id": "Fczx2kdoZ97_"
      },
      "source": [
        "### Logical vs. Physical Lines"
      ]
    },
    {
      "cell_type": "markdown",
      "metadata": {
        "id": "SOaBmx3UZ97_"
      },
      "source": [
        "How many lines of code does the next cell constitute?"
      ]
    },
    {
      "cell_type": "code",
      "metadata": {
        "id": "LGR1lIeJZ98A",
        "outputId": "3cb91be1-72e4-44bd-da7b-059573a8cf62"
      },
      "source": [
        "result = 21 * 2; print(\"The answer is:\", result)"
      ],
      "execution_count": null,
      "outputs": [
        {
          "output_type": "stream",
          "text": [
            "The answer is: 42\n"
          ],
          "name": "stdout"
        }
      ]
    },
    {
      "cell_type": "markdown",
      "metadata": {
        "id": "t_-2V9eXZ98C"
      },
      "source": [
        "The answer depends on how we are counting. If we count the number of lines of written source code, the answer is *one*. This gives us the number of **physical lines**. On the contrary, if we count the number of statements separated by the `;`, the answer is *two*. This gives us the number of **logical lines**.\n",
        "\n",
        "While physical lines are what we, the humans, see, logical lines are how computers read. To align the two ways, it is a best practice to not write more than one logical lines on a single physical one. So, from Python's point of view, the cells above and below are the same. More importantly, the one above is *not* somehow \"magically\" faster."
      ]
    },
    {
      "cell_type": "code",
      "metadata": {
        "id": "MMcomFLTZ98C",
        "outputId": "c0200d3f-fb16-4c74-df61-8c88e3a5a84e"
      },
      "source": [
        "result = 21 * 2\n",
        "print(\"The answer is:\", result)"
      ],
      "execution_count": null,
      "outputs": [
        {
          "output_type": "stream",
          "text": [
            "The answer is: 42\n"
          ],
          "name": "stdout"
        }
      ]
    },
    {
      "cell_type": "markdown",
      "metadata": {
        "id": "NGd8-d3hZ98E"
      },
      "source": [
        "It is also possible to write a single logical line over several physical ones. The cell below is yet another physical representation of the same *two* logical lines. Any pair of delimiters, like `(` and `)` below, can be used to \"format\" the code in between with whitespace. The style guides mentioned before should still be taken into account (i.e., indent with 4 spaces)."
      ]
    },
    {
      "cell_type": "code",
      "metadata": {
        "id": "gKWQdcP_Z98E",
        "outputId": "c6150c45-248b-42f8-b78c-5ef0e7492025"
      },
      "source": [
        "result = 21 * 2\n",
        "print(\n",
        "    \"The answer is:\",\n",
        "    result\n",
        ")"
      ],
      "execution_count": null,
      "outputs": [
        {
          "output_type": "stream",
          "text": [
            "The answer is: 42\n"
          ],
          "name": "stdout"
        }
      ]
    },
    {
      "cell_type": "markdown",
      "metadata": {
        "id": "N7LE3mDYZ98G"
      },
      "source": [
        "Another situation, in which several physical lines are treated as a logical one, is with so-called **[compound statements <img height=\"12\" style=\"display: inline-block\" src=\"https://github.com/jads-nl/intro-to-python/blob/develop/static/link/to_py.png?raw=1\">](https://docs.python.org/3/reference/compound_stmts.html)**. In contrast to simple statements like `=` and `del` above, the purpose of compound statements is to group other statements.\n",
        "\n",
        "We have seen two examples of compound statements already: `for` and `if`. They both consist of a **header** line ending with a `:` and an indented **(code) block** spanning an arbitrary number of logical lines.\n",
        "\n",
        "In the example, the first logical line spans the entire cell, the second logical line contains all physical lines except the first, and the third and fourth logical lines are just the third and fourth physical lines, respectively."
      ]
    },
    {
      "cell_type": "code",
      "metadata": {
        "id": "w0BpIoeiZ98G",
        "outputId": "d422b09e-ff39-4353-adeb-e717b7d39147"
      },
      "source": [
        "for number in [1, 2, 3]:\n",
        "    if number % 2 == 0:\n",
        "        double = 2 * number \n",
        "        print(number, \"->\", double)"
      ],
      "execution_count": null,
      "outputs": [
        {
          "output_type": "stream",
          "text": [
            "2 -> 4\n"
          ],
          "name": "stdout"
        }
      ]
    },
    {
      "cell_type": "markdown",
      "metadata": {
        "id": "RZ-ug6XJZ98I"
      },
      "source": [
        "### Comments"
      ]
    },
    {
      "cell_type": "markdown",
      "metadata": {
        "id": "tkI3MGhiZ98J"
      },
      "source": [
        "A comment is a physical line that is *not* a logical line.\n",
        "\n",
        "We use the `#` symbol to write comments in plain text right into the code. Anything after the `#` until the end of the physical line is ignored by Python.\n",
        "\n",
        "As a good practice, comments should *not* describe *what* happens. This should be evident by reading the code. Otherwise, it is most likely badly written code. Rather, comments should describe *why* something happens.\n",
        "\n",
        "Comments may be added either at the end of a line of code, by convention separated with two spaces, or on a line on their own."
      ]
    },
    {
      "cell_type": "code",
      "metadata": {
        "id": "FMkni1IRZ98J"
      },
      "source": [
        "distance = 891  # in meters\n",
        "elapsed_time = 93  # in seconds\n",
        "\n",
        "# Calculate the speed in km/h.\n",
        "speed = 3.6 * distance / elapsed_time"
      ],
      "execution_count": null,
      "outputs": []
    },
    {
      "cell_type": "markdown",
      "metadata": {
        "id": "X82J7m2RZ98M"
      },
      "source": [
        "But let's think wisely if we need to use a comment.\n",
        "The second cell is a lot more Pythonic."
      ]
    },
    {
      "cell_type": "code",
      "metadata": {
        "id": "fQeLPpdYZ98M"
      },
      "source": [
        "seconds = 365 * 24 * 60 * 60  # = seconds in the year"
      ],
      "execution_count": null,
      "outputs": []
    },
    {
      "cell_type": "code",
      "metadata": {
        "id": "M9AM3CS6Z98P"
      },
      "source": [
        "seconds_per_year = 365 * 24 * 60 * 60"
      ],
      "execution_count": null,
      "outputs": []
    }
  ]
}