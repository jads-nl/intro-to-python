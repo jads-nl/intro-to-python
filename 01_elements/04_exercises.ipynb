{
  "nbformat": 4,
  "nbformat_minor": 0,
  "metadata": {
    "kernelspec": {
      "display_name": "Python 3",
      "language": "python",
      "name": "python3"
    },
    "language_info": {
      "codemirror_mode": {
        "name": "ipython",
        "version": 3
      },
      "file_extension": ".py",
      "mimetype": "text/x-python",
      "name": "python",
      "nbconvert_exporter": "python",
      "pygments_lexer": "ipython3",
      "version": "3.8.6"
    },
    "toc": {
      "base_numbering": 1,
      "nav_menu": {},
      "number_sections": false,
      "sideBar": true,
      "skip_h1_title": true,
      "title_cell": "Table of Contents",
      "title_sidebar": "Contents",
      "toc_cell": false,
      "toc_position": {},
      "toc_section_display": false,
      "toc_window_display": false
    },
    "colab": {
      "name": "04_exercises.ipynb",
      "provenance": [],
      "include_colab_link": true
    }
  },
  "cells": [
    {
      "cell_type": "markdown",
      "metadata": {
        "id": "view-in-github",
        "colab_type": "text"
      },
      "source": [
        "<a href=\"https://colab.research.google.com/github/jads-nl/intro-to-python/blob/develop/01_elements/04_exercises.ipynb\" target=\"_parent\"><img src=\"https://colab.research.google.com/assets/colab-badge.svg\" alt=\"Open In Colab\"/></a>"
      ]
    },
    {
      "cell_type": "markdown",
      "metadata": {
        "id": "fgTkvWDKaFaP"
      },
      "source": [
        "# Chapter 1: Elements of a Program (Coding Exercises)"
      ]
    },
    {
      "cell_type": "markdown",
      "metadata": {
        "id": "fi2P5O7GaFaQ"
      },
      "source": [
        "The exercises below assume that you have read the [second part <img height=\"12\" style=\"display: inline-block\" src=\"https://github.com/jads-nl/intro-to-python/blob/develop/static/link/to_nb.png?raw=1\">](https://nbviewer.jupyter.org/github/webartifex/intro-to-python/blob/develop/01_elements/03_content.ipynb) Chapter 1.\n",
        "\n",
        "The `...`'s in the code cells indicate where you need to fill in code snippets. The number of `...`'s within a code cell give you a rough idea of how many lines of code are needed to solve the task. You should not need to create any additional code cells for your final solution. However, you may want to use temporary code cells to try out some ideas."
      ]
    },
    {
      "cell_type": "markdown",
      "metadata": {
        "id": "1f4blQRfaFaR"
      },
      "source": [
        "## Python as a Calculator"
      ]
    },
    {
      "cell_type": "markdown",
      "metadata": {
        "id": "2v_R3OAjaFaS"
      },
      "source": [
        "The [volume of a sphere <img height=\"12\" style=\"display: inline-block\" src=\"https://github.com/jads-nl/intro-to-python/blob/develop/static/link/to_wiki.png?raw=1\">](https://en.wikipedia.org/wiki/Sphere) is defined as $\\frac{4}{3} * \\pi * r^3$.\n",
        "\n",
        "**Q1**: Calculate it for `r = 2.88` and approximate $\\pi$ with `pi = 3.14`!"
      ]
    },
    {
      "cell_type": "code",
      "metadata": {
        "id": "QEI6u8CpaFaT"
      },
      "source": [
        "pi = 3.14\n",
        "r = 2.88"
      ],
      "execution_count": null,
      "outputs": []
    },
    {
      "cell_type": "code",
      "metadata": {
        "id": "upLUw_2-aFaY"
      },
      "source": [
        "..."
      ],
      "execution_count": null,
      "outputs": []
    },
    {
      "cell_type": "markdown",
      "metadata": {
        "id": "1xrqGkJ-aFab"
      },
      "source": [
        "While Python may be used as a calculator, it behaves a bit differently compared to calculator apps that phones or computers come with and that we are accustomed to.\n",
        "\n",
        "A major difference is that Python \"forgets\" intermediate results that are not assigned to variables. On the contrary, the calculators we work with outside of programming always keep the last result and allow us to use it as the first input for the next calculation.\n",
        "\n",
        "One way to keep on working with intermediate results in Python is to write the entire calculation as just *one* big expression that is composed of many sub-expressions representing the individual steps in our overall calculation.\n",
        "\n",
        "**Q2.1**: Given `a` and `b` like below, subtract the smaller `a` from the larger `b`, divide the difference by `9`, and raise the result to the power of `2`! Use operators that preserve the `int` type of the final result! The entire calculations *must* be placed within *one* code cell.\n",
        "\n",
        "Hint: You may need to group sub-expressions with parentheses `(` and `)`."
      ]
    },
    {
      "cell_type": "code",
      "metadata": {
        "id": "Q3zOoWPNaFab"
      },
      "source": [
        "a = 42\n",
        "b = 87"
      ],
      "execution_count": null,
      "outputs": []
    },
    {
      "cell_type": "code",
      "metadata": {
        "id": "Z7pmPxZvaFae"
      },
      "source": [
        "..."
      ],
      "execution_count": null,
      "outputs": []
    },
    {
      "cell_type": "markdown",
      "metadata": {
        "id": "ORKo17HXaFag"
      },
      "source": [
        "The code cell below contains nothing but a single underscore `_`. In both, a Python command-line prompt and Jupyter notebooks, the variable `_` is automatically updated and always references the object to which the *last* expression executed evaluated to.\n",
        "\n",
        "**Q2.2**: Execute the code cell below! It should evaluate to the *same* result as the previous code cell (i.e., your answer to **Q2.1** assuming you go through this notebook in order)."
      ]
    },
    {
      "cell_type": "code",
      "metadata": {
        "id": "O3067fI2aFah"
      },
      "source": [
        "_"
      ],
      "execution_count": null,
      "outputs": []
    },
    {
      "cell_type": "markdown",
      "metadata": {
        "id": "IRGoh2dgaFaj"
      },
      "source": [
        "**Q2.3**: Implement the same overall calculation as in your answer to **Q2.1** in several independent steps (i.e., code cells)! Use only *one* operator per code cell!\n",
        "\n",
        "Hint: You should need *two* more code cells after the `b - a` one immediately below. If you *need* to use parentheses, you must be doing something wrong."
      ]
    },
    {
      "cell_type": "code",
      "metadata": {
        "id": "JiHJBk1maFak"
      },
      "source": [
        "b - a"
      ],
      "execution_count": null,
      "outputs": []
    },
    {
      "cell_type": "code",
      "metadata": {
        "id": "3fHz6CgQaFan"
      },
      "source": [
        "_ ..."
      ],
      "execution_count": null,
      "outputs": []
    },
    {
      "cell_type": "code",
      "metadata": {
        "id": "6dW35rC0aFaq"
      },
      "source": [
        "_ ..."
      ],
      "execution_count": null,
      "outputs": []
    },
    {
      "cell_type": "markdown",
      "metadata": {
        "id": "G7q0wIuXaFas"
      },
      "source": [
        "**Q3.1**: When answering the questions above, you should have used only **expressions** in the code cells. What are expressions syntactically?"
      ]
    },
    {
      "cell_type": "markdown",
      "metadata": {
        "id": "WznUGp-2aFas"
      },
      "source": [
        " < your answer >"
      ]
    },
    {
      "cell_type": "markdown",
      "metadata": {
        "id": "oEoOtJQwaFat"
      },
      "source": [
        "**Q3.2**: The code cells that provide the numbers to work with contain **statements** that are *not* expressions. What are statements? How are they different from expressions?"
      ]
    },
    {
      "cell_type": "markdown",
      "metadata": {
        "id": "ym3Y6fX0aFat"
      },
      "source": [
        " < your answer >"
      ]
    }
  ]
}