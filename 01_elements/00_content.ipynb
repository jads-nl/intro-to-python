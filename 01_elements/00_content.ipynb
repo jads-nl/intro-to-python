{
  "nbformat": 4,
  "nbformat_minor": 0,
  "metadata": {
    "kernelspec": {
      "display_name": "Python 3",
      "language": "python",
      "name": "python3"
    },
    "language_info": {
      "codemirror_mode": {
        "name": "ipython",
        "version": 3
      },
      "file_extension": ".py",
      "mimetype": "text/x-python",
      "name": "python",
      "nbconvert_exporter": "python",
      "pygments_lexer": "ipython3",
      "version": "3.8.6"
    },
    "livereveal": {
      "auto_select": "code",
      "auto_select_fragment": true,
      "scroll": true,
      "theme": "serif"
    },
    "toc": {
      "base_numbering": 1,
      "nav_menu": {},
      "number_sections": false,
      "sideBar": true,
      "skip_h1_title": true,
      "title_cell": "Table of Contents",
      "title_sidebar": "Contents",
      "toc_cell": false,
      "toc_position": {
        "height": "calc(100% - 180px)",
        "left": "10px",
        "top": "150px",
        "width": "303.333px"
      },
      "toc_section_display": false,
      "toc_window_display": false
    },
    "colab": {
      "name": "00_content.ipynb",
      "provenance": [],
      "include_colab_link": true
    }
  },
  "cells": [
    {
      "cell_type": "markdown",
      "metadata": {
        "id": "view-in-github",
        "colab_type": "text"
      },
      "source": [
        "<a href=\"https://colab.research.google.com/github/jads-nl/intro-to-python/blob/develop/01_elements/00_content.ipynb\" target=\"_parent\"><img src=\"https://colab.research.google.com/assets/colab-badge.svg\" alt=\"Open In Colab\"/></a>"
      ]
    },
    {
      "cell_type": "markdown",
      "metadata": {
        "id": "mqXe83SvZWJ9"
      },
      "source": [
        "# Chapter 1: Elements of a Program"
      ]
    },
    {
      "cell_type": "markdown",
      "metadata": {
        "id": "67T7wXc3ZWJ-"
      },
      "source": [
        "Do you remember how you first learned to speak in your mother tongue? Probably not. No one's memory goes back that far. Your earliest memory as a child should probably be around the age of three or four years old when you could already say simple things and interact with your environment. Although you did not know any grammar rules yet, other people just understood what you said. At least most of the time.\n",
        "\n",
        "It is intuitively best to take the very mindset of a small child when learning a new language. And a programming language is no different from that. This first chapter introduces simplistic examples and we accept them as they are *without* knowing any of the \"grammar\" rules yet. Then, we analyze them in parts and slowly build up our understanding.\n",
        "\n",
        "Consequently, if parts of this chapter do not make sense right away, let's not worry too much. Besides introducing the basic elements, it also serves as an outlook for what is to come. So, many terms and concepts used here are deconstructed in great detail in the following chapters."
      ]
    },
    {
      "cell_type": "markdown",
      "metadata": {
        "id": "3kLs6t4OZWJ-"
      },
      "source": [
        "## Example: Averaging all even Numbers in a List"
      ]
    },
    {
      "cell_type": "markdown",
      "metadata": {
        "id": "tuoqoKzdZWJ_"
      },
      "source": [
        "As our introductory example, we want to calculate the *average* of all *evens* in a **list** of whole numbers: `[7, 11, 8, 5, 3, 12, 2, 6, 9, 10, 1, 4]`.\n",
        "\n",
        "While we are used to finding an [analytical solution](https://math.stackexchange.com/questions/935405/what-s-the-difference-between-analytical-and-numerical-approaches-to-problems/935446#935446) in math (i.e., derive some equation with \"pen and paper\"), we solve this task *programmatically* instead.\n",
        "\n",
        "We start by creating a list called `numbers` that holds all the individual numbers between **brackets** `[` and `]`."
      ]
    },
    {
      "cell_type": "code",
      "metadata": {
        "scrolled": true,
        "id": "9l4znmXjZWKA"
      },
      "source": [
        "numbers = [7, 11, 8, 5, 3, 12, 2, 6, 9, 10, 1, 4]"
      ],
      "execution_count": null,
      "outputs": []
    },
    {
      "cell_type": "markdown",
      "metadata": {
        "id": "pBa2CgwgZWKE"
      },
      "source": [
        "To verify that something happened in our computer's memory, we **reference** `numbers`."
      ]
    },
    {
      "cell_type": "code",
      "metadata": {
        "id": "iFH_FV1lZWKF",
        "outputId": "eefe621a-d5cd-4252-b510-044e18e682fd"
      },
      "source": [
        "numbers"
      ],
      "execution_count": null,
      "outputs": [
        {
          "output_type": "execute_result",
          "data": {
            "text/plain": [
              "[7, 11, 8, 5, 3, 12, 2, 6, 9, 10, 1, 4]"
            ]
          },
          "metadata": {
            "tags": []
          },
          "execution_count": 2
        }
      ]
    },
    {
      "cell_type": "markdown",
      "metadata": {
        "id": "FlJixNB0ZWKI"
      },
      "source": [
        "So far, so good. Let's see how the desired **computation** could be expressed as a **sequence of instructions** in the next code cell.\n",
        "\n",
        "Intuitively, the line `for number in numbers` describes a \"loop\" over all the numbers in the `numbers` list, one at a time.\n",
        "\n",
        "The `if number % 2 == 0` may look confusing at first sight. Both `%` and `==` must have an unintuitive meaning here. Luckily, the **comment** in the same line after the `#` symbol has the answer: The program does something only for an even `number`.\n",
        "\n",
        "In particular, it increases `count` by `1` and adds the current `number` onto the [running <img height=\"12\" style=\"display: inline-block\" src=\"https://github.com/jads-nl/intro-to-python/blob/develop/static/link/to_wiki.png?raw=1\">](https://en.wikipedia.org/wiki/Running_total) `total`. Both `count` and `number` are **initialized** to `0` and the single `=` symbol reads as \"... is *set* equal to ...\". It cannot indicate a mathematical equation as, for example, `count` is generally *not* equal to `count + 1`.\n",
        "\n",
        "Lastly, the `average` is calculated as the ratio of the final **values** of `total` and `count`. Overall, we divide the sum of all even numbers by their count: This is nothing but the definition of an average.\n",
        "\n",
        "The lines of code \"within\" the `for` and `if` **statements** are **indented** and aligned with multiples of *four spaces*: This shows immediately how the lines relate to each other."
      ]
    },
    {
      "cell_type": "code",
      "metadata": {
        "id": "nofmgfKGZWKJ"
      },
      "source": [
        "count = 0  # initialize variables to keep track of the\n",
        "total = 0  # running total and the count of even numbers\n",
        "\n",
        "for number in numbers:\n",
        "    if number % 2 == 0:  # only work with even numbers\n",
        "        count = count + 1\n",
        "        total = total + number\n",
        "\n",
        "average = total / count"
      ],
      "execution_count": null,
      "outputs": []
    },
    {
      "cell_type": "markdown",
      "metadata": {
        "id": "qPJsf0weZWKM"
      },
      "source": [
        "We do not see any **output** yet but obtain the value of `average` by referencing it again."
      ]
    },
    {
      "cell_type": "code",
      "metadata": {
        "id": "4xUS-GQlZWKM",
        "outputId": "998fde89-6f57-48bc-bc24-9ff677e8e1bb"
      },
      "source": [
        "average"
      ],
      "execution_count": null,
      "outputs": [
        {
          "output_type": "execute_result",
          "data": {
            "text/plain": [
              "7.0"
            ]
          },
          "metadata": {
            "tags": []
          },
          "execution_count": 4
        }
      ]
    },
    {
      "cell_type": "markdown",
      "metadata": {
        "id": "Wxcdka5FZWKP"
      },
      "source": [
        "## Output in a Jupyter Notebook"
      ]
    },
    {
      "cell_type": "markdown",
      "metadata": {
        "id": "CnKOMbXeZWKP"
      },
      "source": [
        "Only two of the previous four code cells generate an **output** while two remained \"silent\" (i.e., nothing appears below the cell after running it).\n",
        "\n",
        "By default, Jupyter notebooks only show the value of the **expression** in the last line of a code cell. And, this output may also be suppressed by ending the last line with a semicolon `;`."
      ]
    },
    {
      "cell_type": "code",
      "metadata": {
        "id": "My2iwN7-ZWKQ",
        "outputId": "bbf611c6-0da8-43e2-a458-f25d52e60369"
      },
      "source": [
        "\"Hello, World!\"\n",
        "\"I am feeling great :-)\""
      ],
      "execution_count": null,
      "outputs": [
        {
          "output_type": "execute_result",
          "data": {
            "text/plain": [
              "'I am feeling great :-)'"
            ]
          },
          "metadata": {
            "tags": []
          },
          "execution_count": 5
        }
      ]
    },
    {
      "cell_type": "code",
      "metadata": {
        "id": "YhcxSZzIZWKS"
      },
      "source": [
        "\"I am invisible!\";"
      ],
      "execution_count": null,
      "outputs": []
    },
    {
      "cell_type": "markdown",
      "metadata": {
        "id": "GP2UdfT7ZWKV"
      },
      "source": [
        "To see any output other than that, we use the built-in [print() <img height=\"12\" style=\"display: inline-block\" src=\"https://github.com/jads-nl/intro-to-python/blob/develop/static/link/to_py.png?raw=1\">](https://docs.python.org/3/library/functions.html#print) **function**. Here, the parentheses `()` indicate that we **call** (i.e., \"execute\") code written somewhere else."
      ]
    },
    {
      "cell_type": "code",
      "metadata": {
        "id": "tdOIJSKdZWKW",
        "outputId": "4ae2ecf7-c24f-43c7-ceca-9928662e9991"
      },
      "source": [
        "print(\"Hello, World!\")\n",
        "print(\"I am feeling great :-)\")"
      ],
      "execution_count": null,
      "outputs": [
        {
          "output_type": "stream",
          "text": [
            "Hello, World!\n",
            "I am feeling great :-)\n"
          ],
          "name": "stdout"
        }
      ]
    },
    {
      "cell_type": "markdown",
      "metadata": {
        "id": "PGWKapGvZWKZ"
      },
      "source": [
        "Outside Jupyter notebooks, the semicolon `;` is used as a **separator** between statements that must otherwise be on a line on their own. However, it is *not* considered good practice to use it as it makes code less readable."
      ]
    },
    {
      "cell_type": "code",
      "metadata": {
        "id": "3kz6vUXfZWKZ",
        "outputId": "14541d13-9ee5-412f-d2b5-084d2da24a8e"
      },
      "source": [
        "print(\"Hello, World!\"); print(\"I am feeling great :-)\")"
      ],
      "execution_count": null,
      "outputs": [
        {
          "output_type": "stream",
          "text": [
            "Hello, World!\n",
            "I am feeling great :-)\n"
          ],
          "name": "stdout"
        }
      ]
    },
    {
      "cell_type": "markdown",
      "metadata": {
        "id": "PTqEBWlJZWKc"
      },
      "source": [
        "## (Arithmetic) Operators"
      ]
    },
    {
      "cell_type": "markdown",
      "metadata": {
        "id": "Xqpk4UuqZWKc"
      },
      "source": [
        "Python comes with many built-in **[operators <img height=\"12\" style=\"display: inline-block\" src=\"https://github.com/jads-nl/intro-to-python/blob/develop/static/link/to_py.png?raw=1\">](https://docs.python.org/3/reference/lexical_analysis.html#operators)**: They are **tokens** (i.e., \"symbols\") that have a special meaning to the Python interpreter.\n",
        "\n",
        "The arithmetic operators either \"operate\" with the number immediately following them, so-called **unary** operators (e.g., negation), or \"process\" the two numbers \"around\" them, so-called **binary** operators (e.g., addition).\n",
        "\n",
        "By definition, operators on their own have *no* permanent **side effects** in the computer's memory. Although the code cells in this section do indeed create *new* numbers in memory (e.g., `77 + 13` creates `90`), they are immediately \"forgotten\" as they are not stored in a **variable** like `numbers` or `average` above. We develop this thought further in the second part of this chapter when we compare **expressions** with **statements**.\n",
        "\n",
        "Let's see some examples of operators. We start with the binary `+` and the `-` operators for addition and subtraction. Binary operators mimic what mathematicians call [infix notation <img height=\"12\" style=\"display: inline-block\" src=\"https://github.com/jads-nl/intro-to-python/blob/develop/static/link/to_wiki.png?raw=1\">](https://en.wikipedia.org/wiki/Infix_notation) and have the expected meaning."
      ]
    },
    {
      "cell_type": "code",
      "metadata": {
        "id": "3-0w1kWQZWKd",
        "outputId": "04f574b6-e799-416d-8496-6d15782e9377"
      },
      "source": [
        "77 + 13"
      ],
      "execution_count": null,
      "outputs": [
        {
          "output_type": "execute_result",
          "data": {
            "text/plain": [
              "90"
            ]
          },
          "metadata": {
            "tags": []
          },
          "execution_count": 9
        }
      ]
    },
    {
      "cell_type": "code",
      "metadata": {
        "id": "AWPwj05AZWKg",
        "outputId": "8f0d7182-890f-404a-d282-8a9deb6b16af"
      },
      "source": [
        "101 - 93"
      ],
      "execution_count": null,
      "outputs": [
        {
          "output_type": "execute_result",
          "data": {
            "text/plain": [
              "8"
            ]
          },
          "metadata": {
            "tags": []
          },
          "execution_count": 10
        }
      ]
    },
    {
      "cell_type": "markdown",
      "metadata": {
        "id": "vkI3B0XbZWKi"
      },
      "source": [
        "The `-` operator may be used as a unary operator as well. Then, it unsurprisingly flips the sign of a number."
      ]
    },
    {
      "cell_type": "code",
      "metadata": {
        "id": "xf7p8vETZWKi",
        "outputId": "ba3303d1-b745-4d50-bef1-d51b4a6da820"
      },
      "source": [
        "-1"
      ],
      "execution_count": null,
      "outputs": [
        {
          "output_type": "execute_result",
          "data": {
            "text/plain": [
              "-1"
            ]
          },
          "metadata": {
            "tags": []
          },
          "execution_count": 11
        }
      ]
    },
    {
      "cell_type": "markdown",
      "metadata": {
        "id": "WeRLb3M_ZWKl"
      },
      "source": [
        "When we compare the output of the `*` and `/` operators for multiplication and division, we note the subtle *difference* between the `42` and the `42.0`: They are the *same* number represented as a *different* **data type**."
      ]
    },
    {
      "cell_type": "code",
      "metadata": {
        "id": "S_SQ9GTOZWKl",
        "outputId": "116f9420-c2dc-4f2c-8711-186d0ad226d4"
      },
      "source": [
        "2 * 21"
      ],
      "execution_count": null,
      "outputs": [
        {
          "output_type": "execute_result",
          "data": {
            "text/plain": [
              "42"
            ]
          },
          "metadata": {
            "tags": []
          },
          "execution_count": 12
        }
      ]
    },
    {
      "cell_type": "code",
      "metadata": {
        "id": "0P2LKkDcZWKo",
        "outputId": "54388b12-7ec3-46ee-a503-5eb8a1b57533"
      },
      "source": [
        "84 / 2"
      ],
      "execution_count": null,
      "outputs": [
        {
          "output_type": "execute_result",
          "data": {
            "text/plain": [
              "42.0"
            ]
          },
          "metadata": {
            "tags": []
          },
          "execution_count": 13
        }
      ]
    },
    {
      "cell_type": "markdown",
      "metadata": {
        "id": "0oaczaPzZWKr"
      },
      "source": [
        "The so-called **floor division operator** `//` always \"rounds\" to an integer and is thus also called **integer division operator**. It is an example of an arithmetic operator we commonly do not know from high school mathematics."
      ]
    },
    {
      "cell_type": "code",
      "metadata": {
        "id": "7a52IejzZWKr",
        "outputId": "f5809c5a-5f6f-41f3-dd3a-c8e66714b70b"
      },
      "source": [
        "84 // 2"
      ],
      "execution_count": null,
      "outputs": [
        {
          "output_type": "execute_result",
          "data": {
            "text/plain": [
              "42"
            ]
          },
          "metadata": {
            "tags": []
          },
          "execution_count": 14
        }
      ]
    },
    {
      "cell_type": "code",
      "metadata": {
        "id": "3Sp1cbspZWKu",
        "outputId": "6e0ecd52-4c3d-454d-ddc7-b93f1adc74fd"
      },
      "source": [
        "85 // 2"
      ],
      "execution_count": null,
      "outputs": [
        {
          "output_type": "execute_result",
          "data": {
            "text/plain": [
              "42"
            ]
          },
          "metadata": {
            "tags": []
          },
          "execution_count": 15
        }
      ]
    },
    {
      "cell_type": "markdown",
      "metadata": {
        "id": "sZ4YL4muZWKx"
      },
      "source": [
        "Even though it appears that the `//` operator **truncates** (i.e., \"cuts off\") the decimals so as to effectively round down (i.e., the `42.5` became `42` in the previous code cell), this is *not* the case: The result is always \"rounded\" towards minus infinity!"
      ]
    },
    {
      "cell_type": "code",
      "metadata": {
        "id": "g2jxzlhnZWKx",
        "outputId": "d0fb26b0-7d9a-4f49-a93d-5253d47df76f"
      },
      "source": [
        "-85 // 2"
      ],
      "execution_count": null,
      "outputs": [
        {
          "output_type": "execute_result",
          "data": {
            "text/plain": [
              "-43"
            ]
          },
          "metadata": {
            "tags": []
          },
          "execution_count": 16
        }
      ]
    },
    {
      "cell_type": "markdown",
      "metadata": {
        "id": "xA94bH3WZWK1"
      },
      "source": [
        "To obtain the remainder of a division, we use the **modulo operator** `%`."
      ]
    },
    {
      "cell_type": "code",
      "metadata": {
        "id": "b--hrtuSZWK1",
        "outputId": "c46d1851-9df4-4875-da6c-fb139b6d98a1"
      },
      "source": [
        "85 % 2"
      ],
      "execution_count": null,
      "outputs": [
        {
          "output_type": "execute_result",
          "data": {
            "text/plain": [
              "1"
            ]
          },
          "metadata": {
            "tags": []
          },
          "execution_count": 17
        }
      ]
    },
    {
      "cell_type": "markdown",
      "metadata": {
        "id": "8PuIG2OfZWK4"
      },
      "source": [
        "The remainder is `0` *only if* a number is *divisible* by another.\n",
        "\n",
        "A popular convention in both computer science and mathematics is to abbreviate \"only if\" as \"iff\", which is short for \"**[if and only if <img height=\"12\" style=\"display: inline-block\" src=\"https://github.com/jads-nl/intro-to-python/blob/develop/static/link/to_wiki.png?raw=1\">](https://en.wikipedia.org/wiki/If_and_only_if)**.\" The iff means that a remainder of `0` implies that a number is divisible by another but also that a number's being divisible by another implies a remainder of `0`. The implication goes in *both* directions!\n",
        "\n",
        "So, `49` is divisible by `7`."
      ]
    },
    {
      "cell_type": "code",
      "metadata": {
        "id": "HuwSL1tfZWK4",
        "outputId": "3119db2d-674a-4486-dc33-aa8ebf401c52"
      },
      "source": [
        "49 % 7"
      ],
      "execution_count": null,
      "outputs": [
        {
          "output_type": "execute_result",
          "data": {
            "text/plain": [
              "0"
            ]
          },
          "metadata": {
            "tags": []
          },
          "execution_count": 18
        }
      ]
    },
    {
      "cell_type": "markdown",
      "metadata": {
        "id": "IjnRakHxZWK6"
      },
      "source": [
        "Modulo division is also useful if we want to extract the last couple of digits in a large integer."
      ]
    },
    {
      "cell_type": "code",
      "metadata": {
        "id": "Kr_JnK15ZWK7",
        "outputId": "b86ea466-526d-45a9-fd39-1f6b279d379d"
      },
      "source": [
        "789 % 10"
      ],
      "execution_count": null,
      "outputs": [
        {
          "output_type": "execute_result",
          "data": {
            "text/plain": [
              "9"
            ]
          },
          "metadata": {
            "tags": []
          },
          "execution_count": 19
        }
      ]
    },
    {
      "cell_type": "code",
      "metadata": {
        "id": "B3FQM-3rZWK9",
        "outputId": "64d174fe-0b9b-4f9a-fdc2-1fa6654951f3"
      },
      "source": [
        "789 % 100"
      ],
      "execution_count": null,
      "outputs": [
        {
          "output_type": "execute_result",
          "data": {
            "text/plain": [
              "89"
            ]
          },
          "metadata": {
            "tags": []
          },
          "execution_count": 20
        }
      ]
    },
    {
      "cell_type": "markdown",
      "metadata": {
        "id": "3lQDVC4FZWK_"
      },
      "source": [
        "The built-in [divmod() <img height=\"12\" style=\"display: inline-block\" src=\"https://github.com/jads-nl/intro-to-python/blob/develop/static/link/to_py.png?raw=1\">](https://docs.python.org/3/library/functions.html#divmod) function combines the integer and modulo divisions into one step. However, grammatically this is *not* an operator but a function. Also, [divmod() <img height=\"12\" style=\"display: inline-block\" src=\"https://github.com/jads-nl/intro-to-python/blob/develop/static/link/to_py.png?raw=1\">](https://docs.python.org/3/library/functions.html#divmod) returns a \"pair\" of integers and not a single one."
      ]
    },
    {
      "cell_type": "code",
      "metadata": {
        "id": "ANFcvA_WZWLA",
        "outputId": "ee9d4cb8-1e31-4374-ec3f-c9db8911b7b1"
      },
      "source": [
        "divmod(42, 10)"
      ],
      "execution_count": null,
      "outputs": [
        {
          "output_type": "execute_result",
          "data": {
            "text/plain": [
              "(4, 2)"
            ]
          },
          "metadata": {
            "tags": []
          },
          "execution_count": 21
        }
      ]
    },
    {
      "cell_type": "markdown",
      "metadata": {
        "id": "t3hIATVAZWLD"
      },
      "source": [
        "Raising a number to a power is performed with the **exponentiation operator** `**`. It is different from the `^` operator other programming languages may use and that also exists in Python with a *different* meaning."
      ]
    },
    {
      "cell_type": "code",
      "metadata": {
        "id": "uF9io65NZWLD",
        "outputId": "9f64fd8f-47b8-4268-aec9-66fee0fdc013"
      },
      "source": [
        "2 ** 3"
      ],
      "execution_count": null,
      "outputs": [
        {
          "output_type": "execute_result",
          "data": {
            "text/plain": [
              "8"
            ]
          },
          "metadata": {
            "tags": []
          },
          "execution_count": 22
        }
      ]
    },
    {
      "cell_type": "markdown",
      "metadata": {
        "id": "cLBE4ovmZWLG"
      },
      "source": [
        "The standard [order of precedence <img height=\"12\" style=\"display: inline-block\" src=\"https://github.com/jads-nl/intro-to-python/blob/develop/static/link/to_py.png?raw=1\">](https://docs.python.org/3/reference/expressions.html#operator-precedence) from mathematics applies (i.e., [PEMDAS](http://mathworld.wolfram.com/PEMDAS.html) rule) when several operators are combined."
      ]
    },
    {
      "cell_type": "code",
      "metadata": {
        "id": "TJnZ3IJ9ZWLG",
        "outputId": "9c01321a-3082-486d-d8c2-0d727edfcdf8"
      },
      "source": [
        "3 ** 2 * 2 "
      ],
      "execution_count": null,
      "outputs": [
        {
          "output_type": "execute_result",
          "data": {
            "text/plain": [
              "18"
            ]
          },
          "metadata": {
            "tags": []
          },
          "execution_count": 23
        }
      ]
    },
    {
      "cell_type": "markdown",
      "metadata": {
        "id": "l1zSjGPfZWLJ"
      },
      "source": [
        "Parentheses help avoid confusion and take the role of a **delimiter** here."
      ]
    },
    {
      "cell_type": "code",
      "metadata": {
        "id": "JW1D0axMZWLJ",
        "outputId": "be2bba7a-9305-47e9-8091-47d3aacb69e1"
      },
      "source": [
        "(3 ** 2) * 2"
      ],
      "execution_count": null,
      "outputs": [
        {
          "output_type": "execute_result",
          "data": {
            "text/plain": [
              "18"
            ]
          },
          "metadata": {
            "tags": []
          },
          "execution_count": 24
        }
      ]
    },
    {
      "cell_type": "code",
      "metadata": {
        "id": "f333JNTAZWLL",
        "outputId": "fee82ab7-fd69-4afc-e35d-79127f5b4047"
      },
      "source": [
        "3 ** (2 * 2)"
      ],
      "execution_count": null,
      "outputs": [
        {
          "output_type": "execute_result",
          "data": {
            "text/plain": [
              "81"
            ]
          },
          "metadata": {
            "tags": []
          },
          "execution_count": 25
        }
      ]
    },
    {
      "cell_type": "markdown",
      "metadata": {
        "id": "n5wty4gZZWLN"
      },
      "source": [
        "Some programmers also use \"style\" conventions. For example, we might play with the **whitespace**, which is an umbrella term that refers to any non-printable sign like spaces, tabs, or the like. However, this is *not* a good practice and parentheses convey a much clearer picture."
      ]
    },
    {
      "cell_type": "code",
      "metadata": {
        "id": "ChBf7CshZWLN",
        "outputId": "15639e8d-632e-4a74-f30d-c9d368e39464"
      },
      "source": [
        "3**2 * 2  # bad style; it is better to use parentheses here"
      ],
      "execution_count": null,
      "outputs": [
        {
          "output_type": "execute_result",
          "data": {
            "text/plain": [
              "18"
            ]
          },
          "metadata": {
            "tags": []
          },
          "execution_count": 26
        }
      ]
    },
    {
      "cell_type": "markdown",
      "metadata": {
        "id": "NReyMmrwZWLQ"
      },
      "source": [
        "There exist many non-mathematical operators that are introduced throughout this book, together with the concepts they implement. They often come in a form different from the unary and binary ones mentioned above."
      ]
    },
    {
      "cell_type": "markdown",
      "metadata": {
        "id": "KtaSvetMZWLR"
      },
      "source": [
        "### Operator Overloading"
      ]
    },
    {
      "cell_type": "markdown",
      "metadata": {
        "id": "RGqipqkLZWLR"
      },
      "source": [
        "Python **overloads** certain operators. For example, you may not only \"add\" numbers but also text: This is called **concatenation**."
      ]
    },
    {
      "cell_type": "code",
      "metadata": {
        "id": "G4fD5uvmZWLR"
      },
      "source": [
        "greeting = \"Hi \"\n",
        "audience = \"class\""
      ],
      "execution_count": null,
      "outputs": []
    },
    {
      "cell_type": "code",
      "metadata": {
        "id": "SecUeK7KZWLT",
        "outputId": "1a2d2873-a765-424f-d77c-b63109c3608d"
      },
      "source": [
        "greeting + audience"
      ],
      "execution_count": null,
      "outputs": [
        {
          "output_type": "execute_result",
          "data": {
            "text/plain": [
              "'Hi class'"
            ]
          },
          "metadata": {
            "tags": []
          },
          "execution_count": 28
        }
      ]
    },
    {
      "cell_type": "markdown",
      "metadata": {
        "id": "KOvSD3-aZWLV"
      },
      "source": [
        "Multiplying text with a whole number also works."
      ]
    },
    {
      "cell_type": "code",
      "metadata": {
        "id": "c6Slxhc_ZWLW",
        "outputId": "af04b640-35a6-4d95-b428-06b266ff80bd"
      },
      "source": [
        "10 * greeting"
      ],
      "execution_count": null,
      "outputs": [
        {
          "output_type": "execute_result",
          "data": {
            "text/plain": [
              "'Hi Hi Hi Hi Hi Hi Hi Hi Hi Hi '"
            ]
          },
          "metadata": {
            "tags": []
          },
          "execution_count": 29
        }
      ]
    },
    {
      "cell_type": "markdown",
      "metadata": {
        "id": "DYbcMBD1ZWLY"
      },
      "source": [
        "## Objects vs. Types vs. Values"
      ]
    },
    {
      "cell_type": "markdown",
      "metadata": {
        "id": "gIqsSzLKZWLY"
      },
      "source": [
        "Python is a so-called **object-oriented** language, which is a paradigm of organizing a program's memory.\n",
        "\n",
        "An **object** may be viewed as a \"bag\" of $0$s and $1$s in a given memory location. The $0$s and $1$s in a bag make up the object's **value**. There exist different **types** of bags, and each type comes with its own rules how the $0$s and $1$s are interpreted and may be worked with.\n",
        "\n",
        "So, an object *always* has *three* main characteristics. Let's look at the following examples and work them out."
      ]
    },
    {
      "cell_type": "code",
      "metadata": {
        "id": "TvL4PfgFZWLZ"
      },
      "source": [
        "a = 42\n",
        "b = 42.0\n",
        "c = \"Python rocks\""
      ],
      "execution_count": null,
      "outputs": []
    },
    {
      "cell_type": "markdown",
      "metadata": {
        "id": "Sh5IXD1yZWLb"
      },
      "source": [
        "### Identity / \"Memory Location\""
      ]
    },
    {
      "cell_type": "markdown",
      "metadata": {
        "id": "_vk7MqKrZWLb"
      },
      "source": [
        "The built-in [id() <img height=\"12\" style=\"display: inline-block\" src=\"https://github.com/jads-nl/intro-to-python/blob/develop/static/link/to_py.png?raw=1\">](https://docs.python.org/3/library/functions.html#id) function shows an object's \"address\" in memory."
      ]
    },
    {
      "cell_type": "code",
      "metadata": {
        "id": "KfziLED4ZWLb",
        "outputId": "e33f3988-81f7-4e14-d0a1-fc1cd4b4632b"
      },
      "source": [
        "id(a)"
      ],
      "execution_count": null,
      "outputs": [
        {
          "output_type": "execute_result",
          "data": {
            "text/plain": [
              "94371758832672"
            ]
          },
          "metadata": {
            "tags": []
          },
          "execution_count": 31
        }
      ]
    },
    {
      "cell_type": "code",
      "metadata": {
        "id": "P8MihJ8wZWLd",
        "outputId": "a69d7f0c-a46c-41c3-9c67-f11c1739f1d4"
      },
      "source": [
        "id(b)"
      ],
      "execution_count": null,
      "outputs": [
        {
          "output_type": "execute_result",
          "data": {
            "text/plain": [
              "140673826512720"
            ]
          },
          "metadata": {
            "tags": []
          },
          "execution_count": 32
        }
      ]
    },
    {
      "cell_type": "code",
      "metadata": {
        "id": "0O1T3LmXZWLf",
        "outputId": "3c5fb42e-06e8-4785-9940-eb0036c5d425"
      },
      "source": [
        "id(c)"
      ],
      "execution_count": null,
      "outputs": [
        {
          "output_type": "execute_result",
          "data": {
            "text/plain": [
              "140673817995952"
            ]
          },
          "metadata": {
            "tags": []
          },
          "execution_count": 33
        }
      ]
    },
    {
      "cell_type": "markdown",
      "metadata": {
        "id": "DJaTFe3sZWLh"
      },
      "source": [
        "These addresses are *not* meaningful for anything other than checking if two variables reference the *same* object.\n",
        "\n",
        "Obviously, `a` and `b`  have the same *value* as revealed by the **equality operator** `==`: We say `a` and `b` \"evaluate equal.\" The resulting `True` - and the `False` further below - is yet another data type, a so-called **boolean**. We look into them in [Chapter 3 <img height=\"12\" style=\"display: inline-block\" src=\"https://github.com/jads-nl/intro-to-python/blob/develop/static/link/to_nb.png?raw=1\">](https://nbviewer.jupyter.org/github/webartifex/intro-to-python/blob/develop/03_conditionals/00_content.ipynb#Boolean-Expressions)."
      ]
    },
    {
      "cell_type": "code",
      "metadata": {
        "id": "raytRMivZWLi",
        "outputId": "13c2c1de-c972-45f1-9fb7-8a2eb83aab0a"
      },
      "source": [
        "a == b"
      ],
      "execution_count": null,
      "outputs": [
        {
          "output_type": "execute_result",
          "data": {
            "text/plain": [
              "True"
            ]
          },
          "metadata": {
            "tags": []
          },
          "execution_count": 34
        }
      ]
    },
    {
      "cell_type": "markdown",
      "metadata": {
        "id": "9LEj5UMoZWLm"
      },
      "source": [
        "On the contrary, `a` and `b` are *different* objects as the **identity operator** `is` shows: They are stored at *different* addresses in the memory."
      ]
    },
    {
      "cell_type": "code",
      "metadata": {
        "id": "2k3NDJHmZWLm",
        "outputId": "7a9d3849-af8b-46e2-93e8-ea88b3847d15"
      },
      "source": [
        "a is b"
      ],
      "execution_count": null,
      "outputs": [
        {
          "output_type": "execute_result",
          "data": {
            "text/plain": [
              "False"
            ]
          },
          "metadata": {
            "tags": []
          },
          "execution_count": 35
        }
      ]
    },
    {
      "cell_type": "markdown",
      "metadata": {
        "id": "Kkmv403IZWLp"
      },
      "source": [
        "If we want to check the opposite case, we use the negated version of the `is` operator, namely `is not`."
      ]
    },
    {
      "cell_type": "code",
      "metadata": {
        "id": "0lZM6vbvZWLq",
        "outputId": "275247f9-6662-4522-aadd-f8b572f4e819"
      },
      "source": [
        "a is not b"
      ],
      "execution_count": null,
      "outputs": [
        {
          "output_type": "execute_result",
          "data": {
            "text/plain": [
              "True"
            ]
          },
          "metadata": {
            "tags": []
          },
          "execution_count": 36
        }
      ]
    },
    {
      "cell_type": "markdown",
      "metadata": {
        "id": "AN-XGk9DZWLs"
      },
      "source": [
        "### (Data) Type / \"Behavior\""
      ]
    },
    {
      "cell_type": "markdown",
      "metadata": {
        "id": "WcYDK4qCZWLs"
      },
      "source": [
        "The [type() <img height=\"12\" style=\"display: inline-block\" src=\"https://github.com/jads-nl/intro-to-python/blob/develop/static/link/to_py.png?raw=1\">](https://docs.python.org/3/library/functions.html#type) built-in shows an object's type. For example, `a` is an integer (i.e., `int`) while `b` is a so-called [floating-point number <img height=\"12\" style=\"display: inline-block\" src=\"https://github.com/jads-nl/intro-to-python/blob/develop/static/link/to_wiki.png?raw=1\">](https://en.wikipedia.org/wiki/Floating-point_arithmetic) (i.e., `float`)."
      ]
    },
    {
      "cell_type": "code",
      "metadata": {
        "id": "_7LCmqArZWLs",
        "outputId": "0b687acf-5d54-47cc-a02a-dff818a27639"
      },
      "source": [
        "type(a)"
      ],
      "execution_count": null,
      "outputs": [
        {
          "output_type": "execute_result",
          "data": {
            "text/plain": [
              "int"
            ]
          },
          "metadata": {
            "tags": []
          },
          "execution_count": 37
        }
      ]
    },
    {
      "cell_type": "code",
      "metadata": {
        "id": "RH96EAaRZWLv",
        "outputId": "14cad678-999f-43db-c04c-0f52efd9f494"
      },
      "source": [
        "type(b)"
      ],
      "execution_count": null,
      "outputs": [
        {
          "output_type": "execute_result",
          "data": {
            "text/plain": [
              "float"
            ]
          },
          "metadata": {
            "tags": []
          },
          "execution_count": 38
        }
      ]
    },
    {
      "cell_type": "markdown",
      "metadata": {
        "id": "HEu6uDt0ZWLx"
      },
      "source": [
        "Different types imply different behaviors for the objects. The `b` object, for example, may be \"asked\" if it is a whole number with the [.is_integer() <img height=\"12\" style=\"display: inline-block\" src=\"https://github.com/jads-nl/intro-to-python/blob/develop/static/link/to_py.png?raw=1\">](https://docs.python.org/3/library/stdtypes.html#float.is_integer) \"functionality\" that comes with *every* `float` object.\n",
        "\n",
        "Formally, we call such type-specific functionalities **methods** (i.e., as opposed to functions) and we look at them in detail in [Chapter 11 <img height=\"12\" style=\"display: inline-block\" src=\"https://github.com/jads-nl/intro-to-python/blob/develop/static/link/to_nb.png?raw=1\">](https://nbviewer.jupyter.org/github/webartifex/intro-to-python/blob/develop/11_classes/00_content.ipynb). For now, it suffices to know that we access them with the **dot operator** `.` on the object. Of course, `b` is a whole number, which the boolean object `True` tells us."
      ]
    },
    {
      "cell_type": "code",
      "metadata": {
        "id": "6JqCI6F2ZWLy",
        "outputId": "9f295de0-56bd-4f2f-f79e-06efc92a76f6"
      },
      "source": [
        "b.is_integer()"
      ],
      "execution_count": null,
      "outputs": [
        {
          "output_type": "execute_result",
          "data": {
            "text/plain": [
              "True"
            ]
          },
          "metadata": {
            "tags": []
          },
          "execution_count": 39
        }
      ]
    },
    {
      "cell_type": "markdown",
      "metadata": {
        "id": "-nBfnuwGZWL0"
      },
      "source": [
        "For an `int` object, this [.is_integer() <img height=\"12\" style=\"display: inline-block\" src=\"https://github.com/jads-nl/intro-to-python/blob/develop/static/link/to_py.png?raw=1\">](https://docs.python.org/3/library/stdtypes.html#float.is_integer) check does *not* make sense as we already know it is an `int`: We see the `AttributeError` below as `a` does not even know what `is_integer()` means."
      ]
    },
    {
      "cell_type": "code",
      "metadata": {
        "id": "OS4SV5ZVZWL0",
        "outputId": "f16c10af-43b1-46cf-ba26-2590c936938a"
      },
      "source": [
        "a.is_integer()"
      ],
      "execution_count": null,
      "outputs": [
        {
          "output_type": "error",
          "ename": "AttributeError",
          "evalue": "'int' object has no attribute 'is_integer'",
          "traceback": [
            "\u001b[0;31m---------------------------------------------------------------------------\u001b[0m",
            "\u001b[0;31mAttributeError\u001b[0m                            Traceback (most recent call last)",
            "\u001b[0;32m<ipython-input-40-7db0a38aefcc>\u001b[0m in \u001b[0;36m<module>\u001b[0;34m\u001b[0m\n\u001b[0;32m----> 1\u001b[0;31m \u001b[0ma\u001b[0m\u001b[0;34m.\u001b[0m\u001b[0mis_integer\u001b[0m\u001b[0;34m(\u001b[0m\u001b[0;34m)\u001b[0m\u001b[0;34m\u001b[0m\u001b[0;34m\u001b[0m\u001b[0m\n\u001b[0m",
            "\u001b[0;31mAttributeError\u001b[0m: 'int' object has no attribute 'is_integer'"
          ]
        }
      ]
    },
    {
      "cell_type": "markdown",
      "metadata": {
        "id": "be1GpIwBZWL2"
      },
      "source": [
        "The `c` object is a so-called **string** type (i.e., `str`), which is Python's way of representing text. Strings also come with peculiar behaviors, for example, to make a text lower or upper case."
      ]
    },
    {
      "cell_type": "code",
      "metadata": {
        "id": "wOUYv2h-ZWL2",
        "outputId": "4eb2e7a1-5d06-4acb-ad64-88cb91df6753"
      },
      "source": [
        "type(c)"
      ],
      "execution_count": null,
      "outputs": [
        {
          "output_type": "execute_result",
          "data": {
            "text/plain": [
              "str"
            ]
          },
          "metadata": {
            "tags": []
          },
          "execution_count": 41
        }
      ]
    },
    {
      "cell_type": "code",
      "metadata": {
        "id": "cUFaQrstZWL4",
        "outputId": "e0dc98f7-5b61-4790-9f98-08447eba1ff7"
      },
      "source": [
        "c.lower()"
      ],
      "execution_count": null,
      "outputs": [
        {
          "output_type": "execute_result",
          "data": {
            "text/plain": [
              "'python rocks'"
            ]
          },
          "metadata": {
            "tags": []
          },
          "execution_count": 42
        }
      ]
    },
    {
      "cell_type": "code",
      "metadata": {
        "id": "Xc_LhvGdZWL6",
        "outputId": "f9154cc2-4be6-4d44-ad4a-380f6e9595e6"
      },
      "source": [
        "c.upper()"
      ],
      "execution_count": null,
      "outputs": [
        {
          "output_type": "execute_result",
          "data": {
            "text/plain": [
              "'PYTHON ROCKS'"
            ]
          },
          "metadata": {
            "tags": []
          },
          "execution_count": 43
        }
      ]
    },
    {
      "cell_type": "markdown",
      "metadata": {
        "id": "JWShAqmaZWL8"
      },
      "source": [
        "### Value / (Semantic) \"Meaning\""
      ]
    },
    {
      "cell_type": "markdown",
      "metadata": {
        "id": "WzUSS7zpZWL8"
      },
      "source": [
        "Almost trivially, every object also has a value to which it **evaluates** when referenced. We think of the value as the **conceptual idea** of what the $0$s and $1$s in the bag mean to *humans*. In other words, an object's value regards its *semantic* meaning.\n",
        "\n",
        "For built-in data types, Python prints out an object's value as a so-called **[literal <img height=\"12\" style=\"display: inline-block\" src=\"https://github.com/jads-nl/intro-to-python/blob/develop/static/link/to_py.png?raw=1\">](https://docs.python.org/3/reference/lexical_analysis.html#literals)**: This means that we may copy and paste the value back into a code cell and create a *new* object with the *same* value."
      ]
    },
    {
      "cell_type": "code",
      "metadata": {
        "id": "WRVlv1MlZWL9",
        "outputId": "00bdb942-9359-43a1-d57d-b4e4af53001c"
      },
      "source": [
        "a"
      ],
      "execution_count": null,
      "outputs": [
        {
          "output_type": "execute_result",
          "data": {
            "text/plain": [
              "42"
            ]
          },
          "metadata": {
            "tags": []
          },
          "execution_count": 44
        }
      ]
    },
    {
      "cell_type": "code",
      "metadata": {
        "id": "WCSXVYp9ZWL-",
        "outputId": "d46f8720-10aa-41bf-adc8-43417a055e75"
      },
      "source": [
        "b"
      ],
      "execution_count": null,
      "outputs": [
        {
          "output_type": "execute_result",
          "data": {
            "text/plain": [
              "42.0"
            ]
          },
          "metadata": {
            "tags": []
          },
          "execution_count": 45
        }
      ]
    },
    {
      "cell_type": "markdown",
      "metadata": {
        "id": "m06JJq6_ZWMB"
      },
      "source": [
        "In this book, we follow the convention of creating strings with **double quotes** `\"` instead of the **single quotes** `'` to which Python defaults in its *literal* notation for `str` objects. Both types of quotes may be used interchangeably. So, the `\"Python rocks\"` from above and `'Python rocks'` below create two objects that evaluate equal (i.e., `\"Python rocks\" == 'Python rocks'`)."
      ]
    },
    {
      "cell_type": "code",
      "metadata": {
        "id": "ppUgcXmLZWMB",
        "outputId": "ba93624e-ab79-4a59-db1f-748a52999ee8"
      },
      "source": [
        "c"
      ],
      "execution_count": null,
      "outputs": [
        {
          "output_type": "execute_result",
          "data": {
            "text/plain": [
              "'Python rocks'"
            ]
          },
          "metadata": {
            "tags": []
          },
          "execution_count": 46
        }
      ]
    },
    {
      "cell_type": "markdown",
      "metadata": {
        "id": "uZmYCfOHZWMF"
      },
      "source": [
        "## Formal vs. Natural Languages"
      ]
    },
    {
      "cell_type": "markdown",
      "metadata": {
        "id": "l-3oQUhKZWMG"
      },
      "source": [
        "Just like the language of mathematics is good at expressing relationships among numbers and symbols, any programming language is just a formal language that is good at expressing computations.\n",
        "\n",
        "Formal languages come with their own \"grammatical rules\" called **syntax**."
      ]
    },
    {
      "cell_type": "markdown",
      "metadata": {
        "id": "1CZv8YwVZWMG"
      },
      "source": [
        "### Syntax Errors"
      ]
    },
    {
      "cell_type": "markdown",
      "metadata": {
        "id": "3DYCtIFWZWMG"
      },
      "source": [
        "If we do not follow the rules, the code cannot be **parsed** correctly, i.e., the program does not even start to run but **raises** a **syntax error** indicated as `SyntaxError` in the output. Computers are very dumb in the sense that the slightest syntax error leads to the machine not understanding our code.\n",
        "\n",
        "If we were to write an accounting program that adds up currencies, we would, for example, have to model dollar prices as `float` objects as the dollar symbol cannot be understood by Python."
      ]
    },
    {
      "cell_type": "code",
      "metadata": {
        "id": "nWGnyQPJZWMH",
        "outputId": "b25b5356-ccde-4fec-ad38-344e4d8e2aab"
      },
      "source": [
        "3.99 $ + 10.40 $"
      ],
      "execution_count": null,
      "outputs": [
        {
          "output_type": "error",
          "ename": "SyntaxError",
          "evalue": "invalid syntax (<ipython-input-47-cafa82e54b9c>, line 1)",
          "traceback": [
            "\u001b[0;36m  File \u001b[0;32m\"<ipython-input-47-cafa82e54b9c>\"\u001b[0;36m, line \u001b[0;32m1\u001b[0m\n\u001b[0;31m    3.99 $ + 10.40 $\u001b[0m\n\u001b[0m         ^\u001b[0m\n\u001b[0;31mSyntaxError\u001b[0m\u001b[0;31m:\u001b[0m invalid syntax\n"
          ]
        }
      ]
    },
    {
      "cell_type": "markdown",
      "metadata": {
        "id": "IONKGcpLZWMJ"
      },
      "source": [
        "Python requires certain symbols at certain places (e.g., a `:` is missing here)."
      ]
    },
    {
      "cell_type": "code",
      "metadata": {
        "id": "anKcaoNGZWMJ",
        "outputId": "fc63b12e-d9e3-4f1b-f63a-80b46534541f"
      },
      "source": [
        "for number in numbers\n",
        "    print(number)"
      ],
      "execution_count": null,
      "outputs": [
        {
          "output_type": "error",
          "ename": "SyntaxError",
          "evalue": "invalid syntax (<ipython-input-48-499e4d0d0cbb>, line 1)",
          "traceback": [
            "\u001b[0;36m  File \u001b[0;32m\"<ipython-input-48-499e4d0d0cbb>\"\u001b[0;36m, line \u001b[0;32m1\u001b[0m\n\u001b[0;31m    for number in numbers\u001b[0m\n\u001b[0m                         ^\u001b[0m\n\u001b[0;31mSyntaxError\u001b[0m\u001b[0;31m:\u001b[0m invalid syntax\n"
          ]
        }
      ]
    },
    {
      "cell_type": "markdown",
      "metadata": {
        "id": "IGDpM7uhZWML"
      },
      "source": [
        "Furthermore, it relies on whitespace (i.e., indentation), unlike many other programming languages. The `IndentationError` below is just a particular type of a `SyntaxError`."
      ]
    },
    {
      "cell_type": "code",
      "metadata": {
        "id": "T1y0kHuDZWML",
        "outputId": "1dc0b477-e40a-4dda-e252-3e6b97fe152c"
      },
      "source": [
        "for number in numbers:\n",
        "print(number)"
      ],
      "execution_count": null,
      "outputs": [
        {
          "output_type": "error",
          "ename": "IndentationError",
          "evalue": "expected an indented block (<ipython-input-49-19398c5f89de>, line 2)",
          "traceback": [
            "\u001b[0;36m  File \u001b[0;32m\"<ipython-input-49-19398c5f89de>\"\u001b[0;36m, line \u001b[0;32m2\u001b[0m\n\u001b[0;31m    print(number)\u001b[0m\n\u001b[0m    ^\u001b[0m\n\u001b[0;31mIndentationError\u001b[0m\u001b[0;31m:\u001b[0m expected an indented block\n"
          ]
        }
      ]
    },
    {
      "cell_type": "markdown",
      "metadata": {
        "id": "nb2N3AN1ZWMN"
      },
      "source": [
        "### Runtime Errors"
      ]
    },
    {
      "cell_type": "markdown",
      "metadata": {
        "id": "9fkPtUrJZWMN"
      },
      "source": [
        "Syntax errors are easy to find as the code does *not* even run in the first place.\n",
        "\n",
        "However, there are also so-called **runtime errors** that occur whenever otherwise (i.e., syntactically) correct code does not run because of invalid input. Runtime errors are also often referred to as **exceptions**.\n",
        "\n",
        "This example does not work because just like in the \"real\" world, Python does not know how to divide by `0`. The syntactically correct code leads to a `ZeroDivisionError`."
      ]
    },
    {
      "cell_type": "code",
      "metadata": {
        "id": "n767Ajy0ZWMN",
        "outputId": "088c8d5e-e649-4b1e-c295-3a409362bfa5"
      },
      "source": [
        "1 / 0"
      ],
      "execution_count": null,
      "outputs": [
        {
          "output_type": "error",
          "ename": "ZeroDivisionError",
          "evalue": "division by zero",
          "traceback": [
            "\u001b[0;31m---------------------------------------------------------------------------\u001b[0m",
            "\u001b[0;31mZeroDivisionError\u001b[0m                         Traceback (most recent call last)",
            "\u001b[0;32m<ipython-input-50-bc757c3fda29>\u001b[0m in \u001b[0;36m<module>\u001b[0;34m\u001b[0m\n\u001b[0;32m----> 1\u001b[0;31m \u001b[0;36m1\u001b[0m \u001b[0;34m/\u001b[0m \u001b[0;36m0\u001b[0m\u001b[0;34m\u001b[0m\u001b[0;34m\u001b[0m\u001b[0m\n\u001b[0m",
            "\u001b[0;31mZeroDivisionError\u001b[0m: division by zero"
          ]
        }
      ]
    },
    {
      "cell_type": "markdown",
      "metadata": {
        "id": "9PTxQFJzZWMP"
      },
      "source": [
        "### Semantic Errors"
      ]
    },
    {
      "cell_type": "markdown",
      "metadata": {
        "id": "BZM1sSHAZWMQ"
      },
      "source": [
        "So-called **semantic errors**, on the contrary, are hard to spot as they do *not* crash the program. The only way to find such errors is to run a program with test input for which we can predict the output. However, testing software is a whole discipline on its own and often very hard to do in practice.\n",
        "\n",
        "The cell below copies our first example from above with a \"tiny\" error. How fast could you have spotted it without the comment?"
      ]
    },
    {
      "cell_type": "code",
      "metadata": {
        "code_folding": [],
        "id": "p-2Tg-OgZWMQ"
      },
      "source": [
        "count = 0\n",
        "total = 0\n",
        "\n",
        "for number in numbers:\n",
        "    if number % 2 == 0:\n",
        "        count = count + 1\n",
        "        total = total + count  # count is wrong here, it should be number\n",
        "\n",
        "average = total / count"
      ],
      "execution_count": null,
      "outputs": []
    },
    {
      "cell_type": "code",
      "metadata": {
        "id": "DAreDghkZWMS",
        "outputId": "a5352fd1-54b5-42db-8aea-d44cecd6b4d2"
      },
      "source": [
        "average"
      ],
      "execution_count": null,
      "outputs": [
        {
          "output_type": "execute_result",
          "data": {
            "text/plain": [
              "3.5"
            ]
          },
          "metadata": {
            "tags": []
          },
          "execution_count": 52
        }
      ]
    },
    {
      "cell_type": "markdown",
      "metadata": {
        "id": "9yT6c7soZWMU"
      },
      "source": [
        "Systematically finding errors is called **debugging**. For the history of the term, see this [article <img height=\"12\" style=\"display: inline-block\" src=\"https://github.com/jads-nl/intro-to-python/blob/develop/static/link/to_wiki.png?raw=1\">](https://en.wikipedia.org/wiki/Debugging)."
      ]
    },
    {
      "cell_type": "markdown",
      "metadata": {
        "id": "OHJlnYs8ZWMU"
      },
      "source": [
        "## Best Practices"
      ]
    },
    {
      "cell_type": "markdown",
      "metadata": {
        "id": "oMfct4_zZWMV"
      },
      "source": [
        "Thus, adhering to just syntax rules is *never* enough. Over time, **best practices** and **style guides** were created to make it less likely for a developer to mess up a program and also to allow \"onboarding\" him as a contributor to an established code base, often called **legacy code**, faster. These rules are *not* enforced by Python itself: Badly styled code still runs. At the very least, Python programs should be styled according to [PEP 8 <img height=\"12\" style=\"display: inline-block\" src=\"https://github.com/jads-nl/intro-to-python/blob/develop/static/link/to_py.png?raw=1\">](https://www.python.org/dev/peps/pep-0008/) and documented \"inline\" (i.e., in the code itself) according to [PEP 257 <img height=\"12\" style=\"display: inline-block\" src=\"https://github.com/jads-nl/intro-to-python/blob/develop/static/link/to_py.png?raw=1\">](https://www.python.org/dev/peps/pep-0257/).\n",
        "\n",
        "An easier to read version of PEP 8 is [here](https://pep8.org/). The video below features a well known **[Pythonista](https://en.wiktionary.org/wiki/Pythonista)** talking about the importance of code style."
      ]
    },
    {
      "cell_type": "code",
      "metadata": {
        "id": "XbJqZWvBZWMV",
        "outputId": "6e315391-f49e-498d-8245-555c65570445"
      },
      "source": [
        "from IPython.display import YouTubeVideo\n",
        "YouTubeVideo(\"Hwckt4J96dI\", width=\"60%\")"
      ],
      "execution_count": null,
      "outputs": [
        {
          "output_type": "execute_result",
          "data": {
            "image/jpeg": "[encoded data removed]",
            "text/html": [
              "\n",
              "        <iframe\n",
              "            width=\"60%\"\n",
              "            height=\"300\"\n",
              "            src=\"https://www.youtube.com/embed/Hwckt4J96dI\"\n",
              "            frameborder=\"0\"\n",
              "            allowfullscreen\n",
              "        ></iframe>\n",
              "        "
            ],
            "text/plain": [
              "<IPython.lib.display.YouTubeVideo at 0x7ff12d761280>"
            ]
          },
          "metadata": {
            "tags": []
          },
          "execution_count": 53
        }
      ]
    },
    {
      "cell_type": "markdown",
      "metadata": {
        "id": "vUZex9GgZWMY"
      },
      "source": [
        "For example, while the above code to calculate the average of the even numbers in `[7, 11, 8, 5, 3, 12, 2, 6, 9, 10, 1, 4]` is correct, a Pythonista would rewrite it in a more \"Pythonic\" way and use the built-in [sum() <img height=\"12\" style=\"display: inline-block\" src=\"https://github.com/jads-nl/intro-to-python/blob/develop/static/link/to_py.png?raw=1\">](https://docs.python.org/3/library/functions.html#sum) and [len() <img height=\"12\" style=\"display: inline-block\" src=\"https://github.com/jads-nl/intro-to-python/blob/develop/static/link/to_py.png?raw=1\">](https://docs.python.org/3/library/functions.html#len) functions (cf., [Chapter 2 <img height=\"12\" style=\"display: inline-block\" src=\"https://github.com/jads-nl/intro-to-python/blob/develop/static/link/to_nb.png?raw=1\">](https://nbviewer.jupyter.org/github/webartifex/intro-to-python/blob/develop/02_functions/00_content.ipynb#Built-in-Functions)) as well as a so-called **list comprehension** (cf., [Chapter 8 <img height=\"12\" style=\"display: inline-block\" src=\"https://github.com/jads-nl/intro-to-python/blob/develop/static/link/to_nb.png?raw=1\">](https://nbviewer.jupyter.org/github/webartifex/intro-to-python/blob/develop/08_mfr/00_content.ipynb#List-Comprehensions)). Pythonic code runs faster in many cases and is less error-prone."
      ]
    },
    {
      "cell_type": "code",
      "metadata": {
        "id": "ROfrxEMmZWMZ"
      },
      "source": [
        "numbers = [7, 11, 8, 5, 3, 12, 2, 6, 9, 10, 1, 4]"
      ],
      "execution_count": null,
      "outputs": []
    },
    {
      "cell_type": "code",
      "metadata": {
        "id": "hS5AXz4wZWMb"
      },
      "source": [
        "evens = [n for n in numbers if n % 2 == 0]  # use of a list comprehension"
      ],
      "execution_count": null,
      "outputs": []
    },
    {
      "cell_type": "code",
      "metadata": {
        "id": "jSN8fIWuZWMd",
        "outputId": "e66a00e7-74a1-4ae8-e194-4d07df699bb5"
      },
      "source": [
        "evens"
      ],
      "execution_count": null,
      "outputs": [
        {
          "output_type": "execute_result",
          "data": {
            "text/plain": [
              "[8, 12, 2, 6, 10, 4]"
            ]
          },
          "metadata": {
            "tags": []
          },
          "execution_count": 56
        }
      ]
    },
    {
      "cell_type": "code",
      "metadata": {
        "id": "hDARo-1mZWMe"
      },
      "source": [
        "average = sum(evens) / len(evens)  # use built-in functions"
      ],
      "execution_count": null,
      "outputs": []
    },
    {
      "cell_type": "code",
      "metadata": {
        "id": "b-y7_zBiZWMf",
        "outputId": "9a07e8d3-0168-4f0e-e218-f432773f8bd1"
      },
      "source": [
        "average"
      ],
      "execution_count": null,
      "outputs": [
        {
          "output_type": "execute_result",
          "data": {
            "text/plain": [
              "7.0"
            ]
          },
          "metadata": {
            "tags": []
          },
          "execution_count": 58
        }
      ]
    },
    {
      "cell_type": "markdown",
      "metadata": {
        "id": "lUwxg-_HZWMj"
      },
      "source": [
        "To get a rough overview of the mindset of a typical Python programmer, look at these rules, also known as the **Zen of Python**, that are deemed so important that they are included in every Python installation."
      ]
    },
    {
      "cell_type": "code",
      "metadata": {
        "id": "f_XgMdePZWMj",
        "outputId": "dc553a34-fd53-4195-c27b-2c6bae4bdc40"
      },
      "source": [
        "import this"
      ],
      "execution_count": null,
      "outputs": [
        {
          "output_type": "stream",
          "text": [
            "The Zen of Python, by Tim Peters\n",
            "\n",
            "Beautiful is better than ugly.\n",
            "Explicit is better than implicit.\n",
            "Simple is better than complex.\n",
            "Complex is better than complicated.\n",
            "Flat is better than nested.\n",
            "Sparse is better than dense.\n",
            "Readability counts.\n",
            "Special cases aren't special enough to break the rules.\n",
            "Although practicality beats purity.\n",
            "Errors should never pass silently.\n",
            "Unless explicitly silenced.\n",
            "In the face of ambiguity, refuse the temptation to guess.\n",
            "There should be one-- and preferably only one --obvious way to do it.\n",
            "Although that way may not be obvious at first unless you're Dutch.\n",
            "Now is better than never.\n",
            "Although never is often better than *right* now.\n",
            "If the implementation is hard to explain, it's a bad idea.\n",
            "If the implementation is easy to explain, it may be a good idea.\n",
            "Namespaces are one honking great idea -- let's do more of those!\n"
          ],
          "name": "stdout"
        }
      ]
    },
    {
      "cell_type": "markdown",
      "metadata": {
        "id": "rGJQjbZ6ZWMl"
      },
      "source": [
        "### Jupyter Notebook Aspects"
      ]
    },
    {
      "cell_type": "markdown",
      "metadata": {
        "id": "l8J52FXQZWMm"
      },
      "source": [
        "#### The Order of Code Cells is arbitrary"
      ]
    },
    {
      "cell_type": "markdown",
      "metadata": {
        "id": "GnFLWAkLZWMm"
      },
      "source": [
        "We can run the code cells in a Jupyter notebook in *any* arbitrary order.\n",
        "\n",
        "That means, for example, that a variable defined towards the bottom could accidentally be referenced at the top of the notebook. This happens quickly when we iteratively built a program and go back and forth between cells.\n",
        "\n",
        "As a good practice, it is recommended to click on \"Kernel\" > \"Restart Kernel and Run All Cells\" in the navigation bar once a notebook is finished. That restarts the Python process forgetting all **state** (i.e., all variables) and ensures that the notebook runs top to bottom without any errors the next time it is opened."
      ]
    },
    {
      "cell_type": "markdown",
      "metadata": {
        "id": "YxY3MxXNZWMm"
      },
      "source": [
        "#### Notebooks are linear"
      ]
    },
    {
      "cell_type": "markdown",
      "metadata": {
        "id": "xH-WwxBEZWMm"
      },
      "source": [
        "While this book is built with Jupyter notebooks, it is crucial to understand that \"real\" programs are almost never \"linear\" (i.e., top to bottom) sequences of instructions but instead may take many different **flows of execution**.\n",
        "\n",
        "At the same time, for a beginner's course, it is often easier to code linearly.\n",
        "\n",
        "In real data science projects, one would probably employ a mixed approach and put reusable code into so-called Python modules (i.e., *.py* files; cf., [Chapter 2 <img height=\"12\" style=\"display: inline-block\" src=\"https://github.com/jads-nl/intro-to-python/blob/develop/static/link/to_nb.png?raw=1\">](https://nbviewer.jupyter.org/github/webartifex/intro-to-python/blob/develop/02_functions/00_content.ipynb#Local-Modules-and-Packages)) and then use Jupyter notebooks to build up a linear report or storyline for an analysis."
      ]
    }
  ]
}