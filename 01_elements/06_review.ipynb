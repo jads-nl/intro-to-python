{
  "nbformat": 4,
  "nbformat_minor": 0,
  "metadata": {
    "kernelspec": {
      "display_name": "Python 3",
      "language": "python",
      "name": "python3"
    },
    "language_info": {
      "codemirror_mode": {
        "name": "ipython",
        "version": 3
      },
      "file_extension": ".py",
      "mimetype": "text/x-python",
      "name": "python",
      "nbconvert_exporter": "python",
      "pygments_lexer": "ipython3",
      "version": "3.8.6"
    },
    "toc": {
      "base_numbering": 1,
      "nav_menu": {},
      "number_sections": false,
      "sideBar": true,
      "skip_h1_title": true,
      "title_cell": "Table of Contents",
      "title_sidebar": "Contents",
      "toc_cell": false,
      "toc_position": {},
      "toc_section_display": false,
      "toc_window_display": false
    },
    "colab": {
      "name": "06_review.ipynb",
      "provenance": [],
      "include_colab_link": true
    }
  },
  "cells": [
    {
      "cell_type": "markdown",
      "metadata": {
        "id": "view-in-github",
        "colab_type": "text"
      },
      "source": [
        "<a href=\"https://colab.research.google.com/github/jads-nl/intro-to-python/blob/develop/01_elements/06_review.ipynb\" target=\"_parent\"><img src=\"https://colab.research.google.com/assets/colab-badge.svg\" alt=\"Open In Colab\"/></a>"
      ]
    },
    {
      "cell_type": "markdown",
      "metadata": {
        "id": "IavdVVsTam5h"
      },
      "source": [
        "# Chapter 1: Elements of a Program (Review Questions)"
      ]
    },
    {
      "cell_type": "markdown",
      "metadata": {
        "id": "1PAZgXBqam5m"
      },
      "source": [
        "The questions below assume that you have read the [first <img height=\"12\" style=\"display: inline-block\" src=\"https://github.com/jads-nl/intro-to-python/blob/develop/static/link/to_nb.png?raw=1\">](https://nbviewer.jupyter.org/github/webartifex/intro-to-python/blob/develop/01_elements/00_content.ipynb) and the [second <img height=\"12\" style=\"display: inline-block\" src=\"https://github.com/jads-nl/intro-to-python/blob/develop/static/link/to_nb.png?raw=1\">](https://nbviewer.jupyter.org/github/webartifex/intro-to-python/blob/develop/01_elements/03_content.ipynb) part of Chapter 1.\n",
        "\n",
        "Be concise in your answers! Most questions can be answered in *one* sentence."
      ]
    },
    {
      "cell_type": "markdown",
      "metadata": {
        "id": "0MZuhUzuam5n"
      },
      "source": [
        "## Essay Questions "
      ]
    },
    {
      "cell_type": "markdown",
      "metadata": {
        "id": "lVV6T-4-am5n"
      },
      "source": [
        "**Q1**: Elaborate on how **modulo division** might be a handy operation to know!"
      ]
    },
    {
      "cell_type": "markdown",
      "metadata": {
        "id": "ildl7ZMDam5o"
      },
      "source": [
        " < your answer >"
      ]
    },
    {
      "cell_type": "markdown",
      "metadata": {
        "id": "SNLS8M9Oam5p"
      },
      "source": [
        "**Q2**: What is a **dynamically typed** language? How does it differ from a **statically typed** language? What does that mean for Python?"
      ]
    },
    {
      "cell_type": "markdown",
      "metadata": {
        "id": "FwDmFSq5am5q"
      },
      "source": [
        " < your answer >"
      ]
    },
    {
      "cell_type": "markdown",
      "metadata": {
        "id": "UlLpFNstam5q"
      },
      "source": [
        "**Q3**: Why is it useful to start counting at $0$?"
      ]
    },
    {
      "cell_type": "markdown",
      "metadata": {
        "id": "hlWo-lAwam5r"
      },
      "source": [
        " < your answer >"
      ]
    },
    {
      "cell_type": "markdown",
      "metadata": {
        "id": "WC4Wjd0aam5s"
      },
      "source": [
        "**Q4**: What is **operator overloading**?"
      ]
    },
    {
      "cell_type": "markdown",
      "metadata": {
        "id": "-wdnKKR4am5s"
      },
      "source": [
        " < your answer >"
      ]
    },
    {
      "cell_type": "markdown",
      "metadata": {
        "id": "ICDcJkgTam5t"
      },
      "source": [
        "**Q5**: What are the basic **naming conventions** for variables? What happens if a name collides with one of Python's [keywords <img height=\"12\" style=\"display: inline-block\" src=\"https://github.com/jads-nl/intro-to-python/blob/develop/static/link/to_py.png?raw=1\">](https://docs.python.org/3/reference/lexical_analysis.html#keywords)?"
      ]
    },
    {
      "cell_type": "markdown",
      "metadata": {
        "id": "TpS0tqQ8am5t"
      },
      "source": [
        " < your answer >"
      ]
    },
    {
      "cell_type": "markdown",
      "metadata": {
        "id": "00hAyZlnam5u"
      },
      "source": [
        "**Q6**: Advocates of the [functional programming <img height=\"12\" style=\"display: inline-block\" src=\"https://github.com/jads-nl/intro-to-python/blob/develop/static/link/to_wiki.png?raw=1\">](https://en.wikipedia.org/wiki/Functional_programming) paradigm suggest not to use **mutable** data types in a program. What are the advantages of that approach? What might be a downside?"
      ]
    },
    {
      "cell_type": "markdown",
      "metadata": {
        "id": "ALP4G_WIam5u"
      },
      "source": [
        " < your answer >"
      ]
    },
    {
      "cell_type": "markdown",
      "metadata": {
        "id": "vf-MHPq9am5v"
      },
      "source": [
        "## True / False Questions"
      ]
    },
    {
      "cell_type": "markdown",
      "metadata": {
        "id": "I0WdPkmPam5w"
      },
      "source": [
        "Motivate your answer with *one short* sentence!"
      ]
    },
    {
      "cell_type": "markdown",
      "metadata": {
        "id": "YF9EjtHZam5w"
      },
      "source": [
        "**Q7**: \"**dunder**\" refers to a group of Australian (i.e., \"down under\") geeks that work on core Python."
      ]
    },
    {
      "cell_type": "markdown",
      "metadata": {
        "id": "S7rrPRReam5x"
      },
      "source": [
        " < your answer >"
      ]
    },
    {
      "cell_type": "markdown",
      "metadata": {
        "id": "GV-ir2BRam5x"
      },
      "source": [
        "**Q8**: The **Zen of Python** talks about Indian genius programmers."
      ]
    },
    {
      "cell_type": "markdown",
      "metadata": {
        "id": "dpD5s2wIam5y"
      },
      "source": [
        " < your answer >"
      ]
    },
    {
      "cell_type": "markdown",
      "metadata": {
        "id": "dGWmHkvmam5y"
      },
      "source": [
        "**Q9**: When NASA famously converted some measurements to the wrong unit and lost a Mars satellite in 1999 (cf., [source](https://www.wired.com/2010/11/1110mars-climate-observer-report/)), this is an example of a so-called **runtime error**."
      ]
    },
    {
      "cell_type": "markdown",
      "metadata": {
        "id": "Dyw-Txg5am5z"
      },
      "source": [
        " < your answer >"
      ]
    },
    {
      "cell_type": "markdown",
      "metadata": {
        "id": "9qXPoOBnam5z"
      },
      "source": [
        "**Q10**: [PEP 8 <img height=\"12\" style=\"display: inline-block\" src=\"https://github.com/jads-nl/intro-to-python/blob/develop/static/link/to_py.png?raw=1\">](https://www.python.org/dev/peps/pep-0008/) suggests that developers use **8 spaces** per level of indentation."
      ]
    },
    {
      "cell_type": "markdown",
      "metadata": {
        "id": "5dRMjyCcam50"
      },
      "source": [
        " < your answer >"
      ]
    }
  ]
}