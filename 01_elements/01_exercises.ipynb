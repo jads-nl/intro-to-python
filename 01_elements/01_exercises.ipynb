{
  "nbformat": 4,
  "nbformat_minor": 0,
  "metadata": {
    "kernelspec": {
      "display_name": "Python 3",
      "language": "python",
      "name": "python3"
    },
    "language_info": {
      "codemirror_mode": {
        "name": "ipython",
        "version": 3
      },
      "file_extension": ".py",
      "mimetype": "text/x-python",
      "name": "python",
      "nbconvert_exporter": "python",
      "pygments_lexer": "ipython3",
      "version": "3.8.6"
    },
    "toc": {
      "base_numbering": 1,
      "nav_menu": {},
      "number_sections": false,
      "sideBar": true,
      "skip_h1_title": true,
      "title_cell": "Table of Contents",
      "title_sidebar": "Contents",
      "toc_cell": false,
      "toc_position": {},
      "toc_section_display": false,
      "toc_window_display": false
    },
    "colab": {
      "name": "01_exercises.ipynb",
      "provenance": [],
      "include_colab_link": true
    }
  },
  "cells": [
    {
      "cell_type": "markdown",
      "metadata": {
        "id": "view-in-github",
        "colab_type": "text"
      },
      "source": [
        "<a href=\"https://colab.research.google.com/github/jads-nl/intro-to-python/blob/develop/01_elements/01_exercises.ipynb\" target=\"_parent\"><img src=\"https://colab.research.google.com/assets/colab-badge.svg\" alt=\"Open In Colab\"/></a>"
      ]
    },
    {
      "cell_type": "markdown",
      "metadata": {
        "id": "lZgVrf_zZrGf"
      },
      "source": [
        "# Chapter 1: Elements of a Program (Coding Exercises)"
      ]
    },
    {
      "cell_type": "markdown",
      "metadata": {
        "id": "gjlMJK7dZrGf"
      },
      "source": [
        "The exercises below assume that you have read the [first part <img height=\"12\" style=\"display: inline-block\" src=\"https://github.com/jads-nl/intro-to-python/blob/develop/static/link/to_nb.png?raw=1\">](https://nbviewer.jupyter.org/github/webartifex/intro-to-python/blob/develop/01_elements/00_content.ipynb) of Chapter 1.\n",
        "\n",
        "The `...`'s in the code cells indicate where you need to fill in code snippets. The number of `...`'s within a code cell give you a rough idea of how many lines of code are needed to solve the task. You should not need to create any additional code cells for your final solution. However, you may want to use temporary code cells to try out some ideas."
      ]
    },
    {
      "cell_type": "markdown",
      "metadata": {
        "id": "lmAe8UJOZrGg"
      },
      "source": [
        "## Printing Output"
      ]
    },
    {
      "cell_type": "markdown",
      "metadata": {
        "id": "rpwRPiyuZrGh"
      },
      "source": [
        "**Q1**: *Concatenate* `greeting` and `audience` below with the `+` operator and print out the resulting message `\"Hello World\"` with only *one* call of the built-in [print() <img height=\"12\" style=\"display: inline-block\" src=\"https://github.com/jads-nl/intro-to-python/blob/develop/static/link/to_py.png?raw=1\">](https://docs.python.org/3/library/functions.html#print) function!\n",
        "\n",
        "Hint: You may have to \"add\" a space character in between `greeting` and `audience`."
      ]
    },
    {
      "cell_type": "code",
      "metadata": {
        "id": "U5mltXC-ZrGh"
      },
      "source": [
        "greeting = \"Hello\"\n",
        "audience = \"World\""
      ],
      "execution_count": null,
      "outputs": []
    },
    {
      "cell_type": "code",
      "metadata": {
        "id": "BxHPWfPYZrGm"
      },
      "source": [
        "print(...)"
      ],
      "execution_count": null,
      "outputs": []
    },
    {
      "cell_type": "markdown",
      "metadata": {
        "id": "yoYy4WrwZrGp"
      },
      "source": [
        "**Q2**: How is your answer to **Q1** an example of the concept of **operator overloading**?"
      ]
    },
    {
      "cell_type": "markdown",
      "metadata": {
        "id": "_i1prL2vZrGq"
      },
      "source": [
        " < your answer >"
      ]
    },
    {
      "cell_type": "markdown",
      "metadata": {
        "id": "qVvMe5eNZrGq"
      },
      "source": [
        "**Q3**: Read the documentation on the built-in [print() <img height=\"12\" style=\"display: inline-block\" src=\"https://github.com/jads-nl/intro-to-python/blob/develop/static/link/to_py.png?raw=1\">](https://docs.python.org/3/library/functions.html#print) function! How can you print the above message *without* concatenating `greeting` and `audience` first in *one* call of [print() <img height=\"12\" style=\"display: inline-block\" src=\"https://github.com/jads-nl/intro-to-python/blob/develop/static/link/to_py.png?raw=1\">](https://docs.python.org/3/library/functions.html#print)?\n",
        "\n",
        "Hint: The `*objects` in the documentation implies that we can put several *expressions* (i.e., variables) separated by commas within the same call of the [print() <img height=\"12\" style=\"display: inline-block\" src=\"https://github.com/jads-nl/intro-to-python/blob/develop/static/link/to_py.png?raw=1\">](https://docs.python.org/3/library/functions.html#print) function."
      ]
    },
    {
      "cell_type": "code",
      "metadata": {
        "id": "4QHe5w0aZrGr"
      },
      "source": [
        "print(...)"
      ],
      "execution_count": null,
      "outputs": []
    },
    {
      "cell_type": "markdown",
      "metadata": {
        "id": "rezxUfTIZrGt"
      },
      "source": [
        "**Q4**: What does the `sep=\" \"` mean in the documentation on the built-in [print() <img height=\"12\" style=\"display: inline-block\" src=\"https://github.com/jads-nl/intro-to-python/blob/develop/static/link/to_py.png?raw=1\">](https://docs.python.org/3/library/functions.html#print) function? Adjust and use it to print out the three names referenced by `first`, `second`, and `third` on *one* line separated by *commas* with only *one* call of the [print() <img height=\"12\" style=\"display: inline-block\" src=\"https://github.com/jads-nl/intro-to-python/blob/develop/static/link/to_py.png?raw=1\">](https://docs.python.org/3/library/functions.html#print) function!"
      ]
    },
    {
      "cell_type": "code",
      "metadata": {
        "id": "oCc4FYinZrGu"
      },
      "source": [
        "first = \"Anthony\"\n",
        "second = \"Berta\"\n",
        "third = \"Christian\""
      ],
      "execution_count": null,
      "outputs": []
    },
    {
      "cell_type": "code",
      "metadata": {
        "id": "_ZVPOcJqZrGw"
      },
      "source": [
        "print(...)"
      ],
      "execution_count": null,
      "outputs": []
    },
    {
      "cell_type": "markdown",
      "metadata": {
        "id": "127BA4pzZrGz"
      },
      "source": [
        "**Q5**: Lastly, what does the `end=\"\\n\"` mean in the documentation? Adjust and use it within the `for`-loop to print the numbers `1` through `10` on *one* line with only *one* call of the [print() <img height=\"12\" style=\"display: inline-block\" src=\"https://github.com/jads-nl/intro-to-python/blob/develop/static/link/to_py.png?raw=1\">](https://docs.python.org/3/library/functions.html#print) function!"
      ]
    },
    {
      "cell_type": "code",
      "metadata": {
        "id": "a_G0fA1uZrGz"
      },
      "source": [
        "for number in [1, 2, 3, 4, 5, 6, 7, 8, 9, 10]:\n",
        "    print(...)"
      ],
      "execution_count": null,
      "outputs": []
    }
  ]
}